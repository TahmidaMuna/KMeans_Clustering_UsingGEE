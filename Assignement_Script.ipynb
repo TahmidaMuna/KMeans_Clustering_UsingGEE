{
 "cells": [
  {
   "cell_type": "markdown",
   "id": "0305d00b-f71a-4dd3-9892-9c14a505f3d5",
   "metadata": {},
   "source": [
    "# <center> Exercise 2  \n",
    "\n",
    "## Import Google Earth API"
   ]
  },
  {
   "cell_type": "code",
   "execution_count": 1,
   "id": "ddc6177c-ed87-43c9-843a-bd8f69f33d08",
   "metadata": {},
   "outputs": [],
   "source": [
    "import ee\n",
    "import geemap"
   ]
  },
  {
   "cell_type": "markdown",
   "id": "cd7a39e2-d7a3-4400-a0e3-3510c92e69a5",
   "metadata": {},
   "source": [
    "## Initialize the authentication process"
   ]
  },
  {
   "cell_type": "code",
   "execution_count": 2,
   "id": "d36f6a26-7c4d-4ad4-a6a0-f324fc7abe2d",
   "metadata": {},
   "outputs": [
    {
     "data": {
      "text/html": [
       "<p>To authorize access needed by Earth Engine, open the following\n",
       "        URL in a web browser and follow the instructions:</p>\n",
       "        <p><a href=https://code.earthengine.google.com/client-auth?scopes=https%3A//www.googleapis.com/auth/earthengine%20https%3A//www.googleapis.com/auth/devstorage.full_control&request_id=l760jZ2v1TpmSI7HcCeWeCNu-TV2TqpbORYE7j-HiKw&tc=3PWi9e5nvqQDkdWZMCwXK_16aN-pOB7fr3eH_nd_7hI&cc=6oYD0suk7D2oJcPpS1A6yL7Dx29jDEpTnzU75KVL_SY>https://code.earthengine.google.com/client-auth?scopes=https%3A//www.googleapis.com/auth/earthengine%20https%3A//www.googleapis.com/auth/devstorage.full_control&request_id=l760jZ2v1TpmSI7HcCeWeCNu-TV2TqpbORYE7j-HiKw&tc=3PWi9e5nvqQDkdWZMCwXK_16aN-pOB7fr3eH_nd_7hI&cc=6oYD0suk7D2oJcPpS1A6yL7Dx29jDEpTnzU75KVL_SY</a></p>\n",
       "        <p>The authorization workflow will generate a code, which you should paste in the box below.</p>\n",
       "        "
      ],
      "text/plain": [
       "<IPython.core.display.HTML object>"
      ]
     },
     "metadata": {},
     "output_type": "display_data"
    },
    {
     "name": "stdin",
     "output_type": "stream",
     "text": [
      "Enter verification code:  4/1AfJohXk1KI38mz5hVT9XjvIXpsa9HohYtUDeH6W-jGkrfv9KNpu08AwGVF0\n"
     ]
    },
    {
     "name": "stdout",
     "output_type": "stream",
     "text": [
      "\n",
      "Successfully saved authorization token.\n"
     ]
    }
   ],
   "source": [
    "# Trigger the authentication flow.\n",
    "ee.Authenticate()"
   ]
  },
  {
   "cell_type": "code",
   "execution_count": 4,
   "id": "89d1e8f6-eca3-4edd-880e-764603309ab5",
   "metadata": {},
   "outputs": [
    {
     "name": "stdout",
     "output_type": "stream",
     "text": [
      "Google Earth Engine has initialized successfully!\n"
     ]
    }
   ],
   "source": [
    "try:\n",
    "    # Initialize the library.\n",
    "    ee.Initialize()\n",
    "    print('Google Earth Engine has initialized successfully!')\n",
    "except ee.EEException as e:\n",
    "    print('Google Earth Engine has failed to initialize!')\n",
    "except:\n",
    "    print(\"Unexpected error:\", sys.exc_info()[0])\n",
    "    raise"
   ]
  },
  {
   "cell_type": "markdown",
   "id": "373b0998-5301-461f-96c6-01fe4625fc83",
   "metadata": {},
   "source": [
    "## Using Dask  \n"
   ]
  },
  {
   "cell_type": "code",
   "execution_count": 5,
   "id": "de14d371-8c48-4787-a147-f342b6552dbf",
   "metadata": {},
   "outputs": [],
   "source": [
    "import dask.dataframe as dd\n",
    "import pandas as pd"
   ]
  },
  {
   "cell_type": "code",
   "execution_count": 6,
   "id": "cc5cd07f-ac1b-44c3-aabe-293618f2ec71",
   "metadata": {},
   "outputs": [
    {
     "name": "stdout",
     "output_type": "stream",
     "text": [
      "         lat        lon           landcover\n",
      "0  66.186422  19.580600  ForestNaturalAreas\n",
      "1  67.225224  22.139060  ForestNaturalAreas\n",
      "2  68.564587  18.763001  ForestNaturalAreas\n",
      "3  51.756201  24.713687               Water\n",
      "4  47.705336  18.825144    AgriculturalArea\n",
      "            lat        lon           landcover\n",
      "4152  42.635008   4.372315               Water\n",
      "4153  53.772584  -1.064018  ForestNaturalAreas\n",
      "4154  40.468550   6.757071    AgriculturalArea\n",
      "4155  51.167547  13.863001    AgriculturalArea\n",
      "4156  56.511879  15.309247    AgriculturalArea\n"
     ]
    }
   ],
   "source": [
    "df = dd.read_csv('Data/SamplesSet*.csv')\n",
    "print(df.head())\n",
    "print(df.tail())"
   ]
  },
  {
   "cell_type": "markdown",
   "id": "6b164733-f4f7-4066-88fe-0fc265df0efe",
   "metadata": {},
   "source": [
    "## Reindexing"
   ]
  },
  {
   "cell_type": "code",
   "execution_count": 7,
   "id": "a198e8d0-ee93-4468-a89d-3509329f1cb0",
   "metadata": {},
   "outputs": [
    {
     "name": "stdout",
     "output_type": "stream",
     "text": [
      "             lat        lon           landcover\n",
      "40456  42.635008   4.372315               Water\n",
      "40457  53.772584  -1.064018  ForestNaturalAreas\n",
      "40458  40.468550   6.757071    AgriculturalArea\n",
      "40459  51.167547  13.863001    AgriculturalArea\n",
      "40460  56.511879  15.309247    AgriculturalArea\n"
     ]
    }
   ],
   "source": [
    "df = dd.read_csv('Data/SamplesSet*.csv')\n",
    "df = df.compute()\n",
    "df = df.reset_index(drop=True)\n",
    "print(df.tail())"
   ]
  },
  {
   "cell_type": "markdown",
   "id": "829bd078-a88c-4f11-8158-c77b463f2ea6",
   "metadata": {},
   "source": [
    "## Data exploration"
   ]
  },
  {
   "cell_type": "code",
   "execution_count": 8,
   "id": "6b1b283f-1c53-418e-ab03-4447bbdb9f66",
   "metadata": {},
   "outputs": [
    {
     "name": "stdout",
     "output_type": "stream",
     "text": [
      "0       ForestNaturalAreas\n",
      "3                    Water\n",
      "4         AgriculturalArea\n",
      "7                 Wetlands\n",
      "14      ArtificialSurfaces\n",
      "1299                   NaN\n",
      "Name: landcover, dtype: object\n",
      "ForestNaturalAreas    15944\n",
      "AgriculturalArea      13788\n",
      "Water                  8494\n",
      "ArtificialSurfaces     1415\n",
      "Wetlands                816\n",
      "Name: landcover, dtype: int64\n"
     ]
    }
   ],
   "source": [
    "distinct_values = df['landcover'].drop_duplicates()\n",
    "print(distinct_values)\n",
    "distinct_value_counts = df['landcover'].value_counts()\n",
    "print(distinct_value_counts)"
   ]
  },
  {
   "cell_type": "code",
   "execution_count": 8,
   "id": "eb7592d2-ab46-4e6e-8bb0-184f6acb6743",
   "metadata": {},
   "outputs": [
    {
     "name": "stdout",
     "output_type": "stream",
     "text": [
      "The lat min value is: 36.20076975509693 and max: 71.52708720156912\n",
      "The lat min value is: -26.068806183526306 and max: 41.39790973452674\n"
     ]
    }
   ],
   "source": [
    "min_value_lat = df['lat'].min()\n",
    "max_value_lat = df['lat'].max()\n",
    "\n",
    "min_value_lon = df['lon'].min()\n",
    "max_value_lon= df['lon'].max()\n",
    "\n",
    "print(f\"The lat min value is: {min_value_lat} and max: {max_value_lat}\")\n",
    "print(f\"The lat min value is: {min_value_lon} and max: {max_value_lon}\")"
   ]
  },
  {
   "cell_type": "markdown",
   "id": "ca987002-3d4e-4b57-a807-a56ba90bd21d",
   "metadata": {},
   "source": [
    "## The bounding box list\n",
    "\n",
    "Find in which bounding box lies the majority of points, using the bounding box from comment by hduchesn on github in thread https://gist.github.com/graydon/11198540"
   ]
  },
  {
   "cell_type": "code",
   "execution_count": 9,
   "id": "ef0bcc95-bbb8-41bf-ab23-f8fd0dfca1ca",
   "metadata": {},
   "outputs": [],
   "source": [
    "import json\n",
    "\n",
    "with open('bounding_boxes.json', 'r') as file:\n",
    "    bounding_boxes = json.load(file)"
   ]
  },
  {
   "cell_type": "code",
   "execution_count": 10,
   "id": "5177ac09-efaa-4868-bbc9-c59c8c4a5864",
   "metadata": {},
   "outputs": [],
   "source": [
    "# check if in bouding box\n",
    "def is_in_bounding_box(lat, lon, bounding_box):\n",
    "    sw = bounding_box['sw']\n",
    "    ne = bounding_box['ne']\n",
    "    return sw['lat'] <= lat <= ne['lat'] and sw['lon'] <= lon <= ne['lon']\n",
    "\n",
    "\n",
    "dfs = []\n",
    "\n",
    "# count locations in each bounding box\n",
    "for code, box in bounding_boxes.items():\n",
    "    country_name = code\n",
    "    bounding_box = box\n",
    "    min_lat, min_lon = bounding_box['sw']['lat'], bounding_box['sw']['lon']\n",
    "    max_lat, max_lon = bounding_box['ne']['lat'], bounding_box['ne']['lon']\n",
    "    filtered_df = df[df.apply(lambda row: is_in_bounding_box(row['lat'], row['lon'], bounding_box), axis=1)]\n",
    "    count = len(filtered_df)\n",
    "    bounding_box_df = dd.from_pandas(pd.DataFrame({'Country': [country_name], 'Code': [code], 'Count': [count]}), npartitions=1)\n",
    "    dfs.append(bounding_box_df)\n",
    "\n",
    "counts_df = dd.concat(dfs)"
   ]
  },
  {
   "cell_type": "markdown",
   "id": "993f0bd3-d9e9-4638-afb2-6eb4792c3158",
   "metadata": {},
   "source": [
    "## Plotting Top 20 Countries based on the sample count"
   ]
  },
  {
   "cell_type": "code",
   "execution_count": 11,
   "id": "7ae488fe-f8e3-4b9b-aa62-bcaeacc28a05",
   "metadata": {},
   "outputs": [
    {
     "data": {
      "image/png": "[encoded data removed]",
      "text/plain": [
       "<Figure size 1000x600 with 1 Axes>"
      ]
     },
     "metadata": {},
     "output_type": "display_data"
    }
   ],
   "source": [
    "import matplotlib.pyplot as plt\n",
    "\n",
    "top_scores = counts_df.nlargest(20, 'Count')\n",
    "top_scores_pd = top_scores.compute()\n",
    "\n",
    "# Plotting\n",
    "plt.figure(figsize=(10, 6))\n",
    "plt.bar(top_scores_pd['Country'], top_scores_pd['Count'])\n",
    "plt.xlabel('Country')\n",
    "plt.ylabel('Count')\n",
    "plt.title('Top 20 Countries by Count')\n",
    "plt.xticks(rotation=45)\n",
    "plt.show()"
   ]
  },
  {
   "cell_type": "markdown",
   "id": "c4e027b2-f4be-4a0b-909f-d61559b72935",
   "metadata": {},
   "source": [
    "## Get only the sample points in France"
   ]
  },
  {
   "cell_type": "code",
   "execution_count": 12,
   "id": "3b3ed48b-f5bd-4bfa-9e4e-43ca787ca649",
   "metadata": {},
   "outputs": [
    {
     "name": "stdout",
     "output_type": "stream",
     "text": [
      "            lat       lon           landcover\n",
      "6333  45.997465  0.743937  ForestNaturalAreas\n",
      "6334  44.776113  0.357572    AgriculturalArea\n",
      "6335  51.094544  4.601532    AgriculturalArea\n",
      "6336  42.310443  6.377444               Water\n",
      "6337  42.635008  4.372315               Water\n"
     ]
    }
   ],
   "source": [
    "min_latitude = 41.303\n",
    "max_latitude = 51.124\n",
    "min_longitude = -5.142\n",
    "max_longitude = 9.561\n",
    "\n",
    "# Filter points within the bounding box\n",
    "france_points = df[\n",
    "    (df['lat'] >= min_latitude) & \n",
    "    (df['lat'] <= max_latitude) & \n",
    "    (df['lon'] >= min_longitude) & \n",
    "    (df['lon'] <= max_longitude)\n",
    "]\n",
    "\n",
    "france_points = france_points.reset_index(drop=True)\n",
    "\n",
    "#check how many points are there in total\n",
    "print(france_points.tail())"
   ]
  },
  {
   "cell_type": "markdown",
   "id": "ee9f0b9c-807d-44d3-8fd0-ed0f181b2612",
   "metadata": {},
   "source": [
    "**As at this point we were expecting that the number of the points and the size of the area might be too large to compute we also decided to created smaller bounding box for France**"
   ]
  },
  {
   "cell_type": "code",
   "execution_count": 13,
   "id": "5ac0bfc2-8172-49fa-be88-6f3f9d7f2dbe",
   "metadata": {},
   "outputs": [],
   "source": [
    "bounding_box_smaller = ee.Geometry.Rectangle([-3.142, 43.303, 6.561, 49.124])"
   ]
  },
  {
   "cell_type": "code",
   "execution_count": 14,
   "id": "3264085c-a91b-43c3-85ba-76677444f8ae",
   "metadata": {},
   "outputs": [
    {
     "name": "stdout",
     "output_type": "stream",
     "text": [
      "            lat       lon           landcover\n",
      "2692  48.719424  3.488222  ForestNaturalAreas\n",
      "2693  44.669344  0.413262    AgriculturalArea\n",
      "2694  47.536590  2.006475    AgriculturalArea\n",
      "2695  45.997465  0.743937  ForestNaturalAreas\n",
      "2696  44.776113  0.357572    AgriculturalArea\n"
     ]
    }
   ],
   "source": [
    "min_latitude = 43.303\n",
    "max_latitude = 49.124\n",
    "min_longitude = -3.142\n",
    "max_longitude = 6.561\n",
    "\n",
    "# Filter points within the bounding box\n",
    "france_points_small = df[\n",
    "    (df['lat'] >= min_latitude) & \n",
    "    (df['lat'] <= max_latitude) & \n",
    "    (df['lon'] >= min_longitude) & \n",
    "    (df['lon'] <= max_longitude)\n",
    "]\n",
    "\n",
    "france_points_small = france_points_small.reset_index(drop=True)\n",
    "\n",
    "print(france_points_small.tail())"
   ]
  },
  {
   "cell_type": "markdown",
   "id": "7a3367b8-9409-4ec9-959e-10cd424ec8c4",
   "metadata": {},
   "source": [
    "## Sentinel image  \n"
   ]
  },
  {
   "cell_type": "code",
   "execution_count": 17,
   "id": "a70686a5-f3d1-44a5-bc20-f0cd87c03399",
   "metadata": {},
   "outputs": [],
   "source": [
    "# get the image for the bigger France area\n",
    "bounding_box = ee.Geometry.Rectangle([-5.4534286, 41.2632185, 9.8678344, 51.268318])\n",
    "center = bounding_box.centroid()\n",
    "\n",
    "map_france = ee.ImageCollection(\"COPERNICUS/S2_SR_HARMONIZED\")\\\n",
    "  .filterBounds(bounding_box)\\\n",
    "  .filterDate('2023-06-01', '2023-08-30')\\\n",
    "  .filterMetadata('CLOUDY_PIXEL_PERCENTAGE', 'less_than', 30) \\\n",
    "  .sort('CLOUDY_PIXEL_PERCENTAGE', False)\n"
   ]
  },
  {
   "cell_type": "markdown",
   "id": "c555c8e1-a58d-4861-bb4f-d270b8b0643a",
   "metadata": {},
   "source": [
    "## Data Interrogation"
   ]
  },
  {
   "cell_type": "code",
   "execution_count": 18,
   "id": "0a2159e6-860d-47a4-90d9-eef570ee80ad",
   "metadata": {},
   "outputs": [
    {
     "name": "stdout",
     "output_type": "stream",
     "text": [
      "Number of images in the collection:  3007\n"
     ]
    }
   ],
   "source": [
    "# get number of images in collection\n",
    "listOfImages = map_france.aggregate_array('system:index').getInfo()\n",
    "print('Number of images in the collection: ', len(listOfImages))\n"
   ]
  },
  {
   "cell_type": "code",
   "execution_count": 19,
   "id": "807fffbe-5ec8-47e9-9038-9237f02c387a",
   "metadata": {},
   "outputs": [],
   "source": [
    "# Set visualization parameters for land cover R, G, B\n",
    "vis_params = {\"min\": 0, \n",
    "              \"max\": 4000, \n",
    "              \"bands\": [\"B4\", \"B3\", \"B2\"]}  \n",
    "\n",
    "# calculate the median of the image\n",
    "median_image = map_france.median()"
   ]
  },
  {
   "cell_type": "code",
   "execution_count": 20,
   "id": "23a2efd8-0a8c-425f-9dfb-2c3190d8372d",
   "metadata": {},
   "outputs": [
    {
     "data": {
      "application/vnd.jupyter.widget-view+json": {
       "model_id": "a9602cd4c6b048f29bdce9b0a138ad62",
       "version_major": 2,
       "version_minor": 0
      },
      "text/plain": [
       "Map(center=[46.36657487868256, 2.207202899999996], controls=(WidgetControl(options=['position', 'transparent_b…"
      ]
     },
     "metadata": {},
     "output_type": "display_data"
    }
   ],
   "source": [
    "#initialize and display the original map\n",
    "Map = geemap.Map()\n",
    "Map.addLayer(median_image, vis_params, \"Median\", True) \n",
    "Map.centerObject(center, 5)\n",
    "Map"
   ]
  },
  {
   "cell_type": "code",
   "execution_count": 21,
   "id": "1ec4735f-38fa-4e3e-ab09-375abcac670c",
   "metadata": {},
   "outputs": [
    {
     "name": "stdout",
     "output_type": "stream",
     "text": [
      "Band names:  ['B1', 'B2', 'B3', 'B4', 'B5', 'B6', 'B7', 'B8', 'B8A', 'B9', 'B11', 'B12', 'AOT', 'WVP', 'SCL', 'TCI_R', 'TCI_G', 'TCI_B', 'MSK_CLDPRB', 'MSK_SNWPRB', 'QA10', 'QA20', 'QA60']\n"
     ]
    }
   ],
   "source": [
    "# get the available bands \n",
    "bandNames = median_image.bandNames() \n",
    "print('Band names: ', bandNames.getInfo()) # ee.List of band names "
   ]
  },
  {
   "cell_type": "markdown",
   "id": "a9da7a5b-2e35-47a3-a17c-9808d71f66e7",
   "metadata": {},
   "source": [
    "## Proceed with Clustering"
   ]
  },
  {
   "cell_type": "markdown",
   "id": "36c9216e-5df5-494f-940f-0106aecead9e",
   "metadata": {},
   "source": [
    "## Start training\n"
   ]
  },
  {
   "cell_type": "code",
   "execution_count": 22,
   "id": "92caa00a-8861-4843-86cc-1a92e5680663",
   "metadata": {},
   "outputs": [
    {
     "name": "stdout",
     "output_type": "stream",
     "text": [
      "CPU times: user 69 µs, sys: 1 µs, total: 70 µs\n",
      "Wall time: 74.4 µs\n"
     ]
    }
   ],
   "source": [
    "%%time\n",
    "training = median_image.sample(**{\n",
    "    'region':bounding_box,\n",
    "    'scale': 30,\n",
    "    'numPixels': 10000,\n",
    "    'seed': 0,\n",
    "    'tileScale' : 2,\n",
    "    'geometries': True # the geometries are not included\n",
    "})"
   ]
  },
  {
   "cell_type": "markdown",
   "id": "bed1ac9b-8adc-4012-a3da-69274ca53abb",
   "metadata": {},
   "source": [
    "## Display the training results"
   ]
  },
  {
   "cell_type": "code",
   "execution_count": 23,
   "id": "e30da5e4-0f40-4757-82c0-e16560e44b09",
   "metadata": {},
   "outputs": [
    {
     "data": {
      "application/vnd.jupyter.widget-view+json": {
       "model_id": "a9602cd4c6b048f29bdce9b0a138ad62",
       "version_major": 2,
       "version_minor": 0
      },
      "text/plain": [
       "Map(bottom=3202.0, center=[46.36657487868256, 2.207202899999996], controls=(WidgetControl(options=['position',…"
      ]
     },
     "metadata": {},
     "output_type": "display_data"
    }
   ],
   "source": [
    "Map.addLayer(training, {}, 'training', False)\n",
    "Map"
   ]
  },
  {
   "cell_type": "markdown",
   "id": "3c37e533-4510-4fbd-b056-4f941e82d6ee",
   "metadata": {},
   "source": [
    "## Cluster the results"
   ]
  },
  {
   "cell_type": "code",
   "execution_count": 24,
   "id": "a5d78626-24f5-452d-9718-0733253e6a55",
   "metadata": {},
   "outputs": [
    {
     "name": "stdout",
     "output_type": "stream",
     "text": [
      "CPU times: user 11 µs, sys: 0 ns, total: 11 µs\n",
      "Wall time: 21.7 µs\n"
     ]
    }
   ],
   "source": [
    "%time\n",
    "n_clusters = 5\n",
    "clusterer = ee.Clusterer.wekaKMeans(n_clusters).train(training)\n",
    "\n",
    "# Cluster the input using the trained clusterer.\n",
    "result = median_image.cluster(clusterer)"
   ]
  },
  {
   "cell_type": "markdown",
   "id": "5f030cd8-a739-4c93-a9c3-5e59f340afa6",
   "metadata": {},
   "source": [
    "## Display the cluster map"
   ]
  },
  {
   "cell_type": "code",
   "execution_count": 26,
   "id": "30e8a6d3-9f75-4e63-8589-41d4100f5642",
   "metadata": {},
   "outputs": [
    {
     "data": {
      "application/vnd.jupyter.widget-view+json": {
       "model_id": "a9602cd4c6b048f29bdce9b0a138ad62",
       "version_major": 2,
       "version_minor": 0
      },
      "text/plain": [
       "Map(bottom=3215.0, center=[45.98169518512228, 7.141113281250001], controls=(WidgetControl(options=['position',…"
      ]
     },
     "metadata": {},
     "output_type": "display_data"
    }
   ],
   "source": [
    "#palette = [red, green, blue, yellow, magenta]\n",
    "palette = ['ff0000', '00ff00', '0000ff', 'ffff00', 'ff00ff'] # Add or modify colors as needed\n",
    "\n",
    "# Create a visualization parameter with the specified palette\n",
    "vis_params = {'min': 0, 'max': n_clusters - 1, 'palette': palette}\n",
    "\n",
    "# Add the clustered result to the map using the custom visualization parameters\n",
    "Map.addLayer(result, vis_params, 'clusters')\n",
    "\n",
    "Map"
   ]
  },
  {
   "cell_type": "markdown",
   "id": "28a94c11-9329-4ca3-bf21-12d86141a7ba",
   "metadata": {},
   "source": [
    "# Assessing the performance  \n",
    "\n",
    "Getting the value of the cluster in the location of the point present in a data set for the biggest area of France"
   ]
  },
  {
   "cell_type": "code",
   "execution_count": null,
   "id": "7b4006e7-eb51-402e-9475-b539707ee860",
   "metadata": {},
   "outputs": [],
   "source": [
    "def get_cluster_for_coordinates(lat, lon):\n",
    "    point = ee.Geometry.Point(lon, lat)\n",
    "    cluster = result.reduceRegion(ee.Reducer.first(), point, 80)  # Adjust the scale as needed\n",
    "    return cluster.get('cluster').getInfo()\n",
    "\n",
    "france_points['cluster'] = france_points.apply(lambda row: get_cluster_for_coordinates(row['lat'], row['lon']), axis=1)\n",
    "france_points.head()\n"
   ]
  },
  {
   "cell_type": "markdown",
   "id": "de7ad024-3c2c-48be-807e-ecd1cc9e563d",
   "metadata": {},
   "source": [
    "**The library pickle is used so that all the resulting data frames can be saved. Therefore in the following part of the report the code will not be shown. Only the resulting maps and histograms as the code for training, clustering and checking the performance remains the same (only the parameters change)**"
   ]
  },
  {
   "cell_type": "code",
   "execution_count": null,
   "id": "27a14e10-04e1-4188-a849-2920d85b89e0",
   "metadata": {},
   "outputs": [],
   "source": [
    "# library to save variables\n",
    "import pickle"
   ]
  },
  {
   "cell_type": "code",
   "execution_count": null,
   "id": "a30cdc9a-487b-470c-8cc6-7d29391cbb79",
   "metadata": {},
   "outputs": [],
   "source": [
    "with open('france_points_big.pickle', 'wb') as handle:\n",
    "    pickle.dump(france_points, handle)"
   ]
  },
  {
   "cell_type": "markdown",
   "id": "dc04d26c-a0cd-40fb-a19d-8706382cce00",
   "metadata": {},
   "source": [
    "## Histogram  \n"
   ]
  },
  {
   "cell_type": "code",
   "execution_count": null,
   "id": "82e505dc-2f85-44de-bd19-9896c2a2c4bd",
   "metadata": {},
   "outputs": [],
   "source": [
    "grouped_data = france_points.groupby(['cluster', 'landcover']).size().reset_index(name='count')\n",
    "\n",
    "# Pivot the data to create a table suitable for plotting\n",
    "pivot_data = grouped_data.pivot(index='cluster', columns='landcover', values='count').fillna(0)\n",
    "\n",
    "colors = {\n",
    "    'Water': 'blue',\n",
    "    'ForestNaturalAreas': 'green',\n",
    "    'ArtificialSurfaces': 'grey',\n",
    "    'Wetlands': 'purple',\n",
    "    'AgriculturalArea': '#FFD700'\n",
    "}\n",
    "\n",
    "# Plotting with custom colors\n",
    "pivot_data.plot(kind='bar', stacked=True, color=[colors[col] for col in pivot_data.columns])\n",
    "plt.xlabel('Cluster')\n",
    "plt.ylabel('Count')\n",
    "plt.title('Distribution of Points per Cluster for Each Landcover')\n",
    "plt.show()"
   ]
  },
  {
   "cell_type": "code",
   "execution_count": null,
   "id": "de9741ec-2295-4e23-b8c1-d78d8a28a0ee",
   "metadata": {},
   "outputs": [],
   "source": [
    "map_france_small = ee.ImageCollection(\"COPERNICUS/S2_SR_HARMONIZED\")\\\n",
    "  .filterBounds(bounding_box_smaller)\\\n",
    "  .filterDate('2023-06-01', '2023-08-30')\\\n",
    "  .filterMetadata('CLOUDY_PIXEL_PERCENTAGE', 'less_than', 30)\n",
    "\n",
    "\n",
    "bands_of_interest = ['B2', 'B3', 'B4']  \n",
    "\n",
    "map_smaller = map_france_small.select(bands_of_interest)\n",
    "map_smaller_median = map_smaller.median()"
   ]
  },
  {
   "cell_type": "markdown",
   "id": "a2ae1f2a-1074-4fe5-993e-106049123553",
   "metadata": {},
   "source": [
    "<div align=\"center\">\n",
    "  <img src=\"images/france_bands.png\" alt=\"Image Description\" width=\"70%\">\n",
    "</div>"
   ]
  },
  {
   "cell_type": "markdown",
   "id": "ef732b93-5f6d-43b0-a1fd-e6348fe66f8c",
   "metadata": {},
   "source": [
    "## Poland"
   ]
  },
  {
   "cell_type": "code",
   "execution_count": null,
   "id": "cb1a251b-d5e2-4dbc-b99c-d56298168000",
   "metadata": {},
   "outputs": [],
   "source": [
    "# Coordinates for the box\n",
    "min_latitude = 49.0020468\n",
    "max_latitude = 55.0336963\n",
    "min_longitude = 14.1229707\n",
    "max_longitude = 24.145783\n",
    "\n",
    "\n",
    "# Filter points within the bounding box\n",
    "pol_points = df[\n",
    "    (df['lat'] >= min_latitude) & \n",
    "    (df['lat'] <= max_latitude) & \n",
    "    (df['lon'] >= min_longitude) & \n",
    "    (df['lon'] <= max_longitude)\n",
    "]\n",
    "\n",
    "pol_points = pol_points.reset_index(drop=True)\n",
    "pol_points.tail()"
   ]
  },
  {
   "cell_type": "markdown",
   "id": "a3e99809-4f73-47ca-9419-49c955ce9ca9",
   "metadata": {},
   "source": [
    "### Reducing the Bounding Box size and increasing the training size  \n"
   ]
  },
  {
   "cell_type": "code",
   "execution_count": null,
   "id": "ce4abf4a-4057-47c3-ae21-fde56d431e43",
   "metadata": {},
   "outputs": [],
   "source": [
    "bounding_box_poland_10k = ee.Geometry.Rectangle([18, 51, 21, 53])\n",
    "\n",
    "\n",
    "training_pol = median_pol_10k.sample(**{\n",
    "    'region':bounding_box_poland_10k,\n",
    "    'scale': 30,\n",
    "    'numPixels': 100000, # was 500\n",
    "    'seed': 0,\n",
    "    'tileScale' : 8,\n",
    "    'geometries': True # the geometries are not included\n",
    "})"
   ]
  },
  {
   "cell_type": "code",
   "execution_count": null,
   "id": "06bd07e7-089d-40a8-b8d0-10665c52bce0",
   "metadata": {},
   "outputs": [],
   "source": [
    "bounding_box_poland_10k_smaller = ee.Geometry.Rectangle([19, 51, 20, 52])"
   ]
  },
  {
   "cell_type": "markdown",
   "id": "158250dc-efba-4832-9945-2fd4b761538a",
   "metadata": {},
   "source": [
    "**The results**\n",
    "\n",
    "<div style=\"display: flex; justify-content: center;\">\n",
    "  <img src=\"images/PolR2.png\" alt=\"Image 1\" style=\"width: 49%; margin: 0 10px;\">\n",
    "  <img src=\"images/PolR3.png\" alt=\"Image 2\" style=\"width: 49%; margin: 0 10px;\">\n",
    "</div>\n",
    "\n",
    "<div style=\"display: flex; justify-content: center;\">\n",
    "  <img src=\"images/PolR9.png\" alt=\"Image 1\" style=\"width: 49%; margin: 0 10px;\">\n",
    "  <img src=\"images/PolR15.png\" alt=\"Image 2\" style=\"width: 49%; margin: 0 10px;\">\n",
    "</div>"
   ]
  }
 ],
 "metadata": {
  "kernelspec": {
   "display_name": "Python 3 (ipykernel)",
   "language": "python",
   "name": "python3"
  },
  "language_info": {
   "codemirror_mode": {
    "name": "ipython",
    "version": 3
   },
   "file_extension": ".py",
   "mimetype": "text/x-python",
   "name": "python",
   "nbconvert_exporter": "python",
   "pygments_lexer": "ipython3",
   "version": "3.11.5"
  }
 },
 "nbformat": 4,
 "nbformat_minor": 5
}
