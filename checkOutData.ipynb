{
 "cells": [
  {
   "cell_type": "markdown",
   "id": "3bbaefc6-6c83-49f0-8abc-e7caa75fea93",
   "metadata": {},
   "source": [
    "# Exercise 2  \n",
    "\n",
    "## Initializing the Google Earth Engine "
   ]
  },
  {
   "cell_type": "code",
   "execution_count": 1,
   "id": "ddc6177c-ed87-43c9-843a-bd8f69f33d08",
   "metadata": {},
   "outputs": [],
   "source": [
    "import ee\n",
    "import geemap"
   ]
  },
  {
   "cell_type": "code",
   "execution_count": 2,
   "id": "d36f6a26-7c4d-4ad4-a6a0-f324fc7abe2d",
   "metadata": {},
   "outputs": [
    {
     "data": {
      "text/html": [
       "<p>To authorize access needed by Earth Engine, open the following\n",
       "        URL in a web browser and follow the instructions:</p>\n",
       "        <p><a href=https://code.earthengine.google.com/client-auth?scopes=https%3A//www.googleapis.com/auth/earthengine%20https%3A//www.googleapis.com/auth/devstorage.full_control&request_id=LqU1DjXmwi2RQ3XRtOFKgQijXhLuwwFMYOUzMT6keKE&tc=iOlgCSY1O8PbG-P87M5i_VNZvjaqVOQ7z-HAPZ4MHGc&cc=EeubNc2um9C1eVImNfB_EVnfRSJwWSfysAKMqJ58MoY>https://code.earthengine.google.com/client-auth?scopes=https%3A//www.googleapis.com/auth/earthengine%20https%3A//www.googleapis.com/auth/devstorage.full_control&request_id=LqU1DjXmwi2RQ3XRtOFKgQijXhLuwwFMYOUzMT6keKE&tc=iOlgCSY1O8PbG-P87M5i_VNZvjaqVOQ7z-HAPZ4MHGc&cc=EeubNc2um9C1eVImNfB_EVnfRSJwWSfysAKMqJ58MoY</a></p>\n",
       "        <p>The authorization workflow will generate a code, which you should paste in the box below.</p>\n",
       "        "
      ],
      "text/plain": [
       "<IPython.core.display.HTML object>"
      ]
     },
     "metadata": {},
     "output_type": "display_data"
    },
    {
     "name": "stdin",
     "output_type": "stream",
     "text": [
      "Enter verification code:  4/1AfJohXkjTfCCS8ZQph7BOeZhyKQ1c3xSoZAwVZmBmwLuL9L30z8DfgWO2ZM\n"
     ]
    },
    {
     "name": "stdout",
     "output_type": "stream",
     "text": [
      "\n",
      "Successfully saved authorization token.\n"
     ]
    }
   ],
   "source": [
    "# Trigger the authentication flow.\n",
    "ee.Authenticate()"
   ]
  },
  {
   "cell_type": "code",
   "execution_count": 3,
   "id": "89d1e8f6-eca3-4edd-880e-764603309ab5",
   "metadata": {},
   "outputs": [
    {
     "name": "stdout",
     "output_type": "stream",
     "text": [
      "Google Earth Engine has initialized successfully!\n"
     ]
    }
   ],
   "source": [
    "try:\n",
    "    # Initialize the library.\n",
    "    ee.Initialize()\n",
    "    print('Google Earth Engine has initialized successfully!')\n",
    "except ee.EEException as e:\n",
    "    print('Google Earth Engine has failed to initialize!')\n",
    "except:\n",
    "    print(\"Unexpected error:\", sys.exc_info()[0])\n",
    "    raise"
   ]
  },
  {
   "cell_type": "markdown",
   "id": "373b0998-5301-461f-96c6-01fe4625fc83",
   "metadata": {},
   "source": [
    "### Dask  \n",
    "\n",
    "Using dask to read the multiple datasets at once"
   ]
  },
  {
   "cell_type": "code",
   "execution_count": 4,
   "id": "de14d371-8c48-4787-a147-f342b6552dbf",
   "metadata": {},
   "outputs": [],
   "source": [
    "import dask.dataframe as dd\n",
    "import pandas as pd"
   ]
  },
  {
   "cell_type": "code",
   "execution_count": 5,
   "id": "cc5cd07f-ac1b-44c3-aabe-293618f2ec71",
   "metadata": {},
   "outputs": [
    {
     "name": "stdout",
     "output_type": "stream",
     "text": [
      "         lat        lon           landcover\n",
      "0  66.186422  19.580600  ForestNaturalAreas\n",
      "1  67.225224  22.139060  ForestNaturalAreas\n",
      "2  68.564587  18.763001  ForestNaturalAreas\n",
      "3  51.756201  24.713687               Water\n",
      "4  47.705336  18.825144    AgriculturalArea\n",
      "            lat        lon           landcover\n",
      "4152  42.635008   4.372315               Water\n",
      "4153  53.772584  -1.064018  ForestNaturalAreas\n",
      "4154  40.468550   6.757071    AgriculturalArea\n",
      "4155  51.167547  13.863001    AgriculturalArea\n",
      "4156  56.511879  15.309247    AgriculturalArea\n"
     ]
    }
   ],
   "source": [
    "df = dd.read_csv('Data/SamplesSet*.csv')\n",
    "print(df.head())\n",
    "print(df.tail())"
   ]
  },
  {
   "cell_type": "markdown",
   "id": "6b164733-f4f7-4066-88fe-0fc265df0efe",
   "metadata": {},
   "source": [
    "As can be seen in the combined data frame the index is not correct the cell below re indexes the data frame, so that the row number can be again the primary key"
   ]
  },
  {
   "cell_type": "code",
   "execution_count": 6,
   "id": "a198e8d0-ee93-4468-a89d-3509329f1cb0",
   "metadata": {},
   "outputs": [
    {
     "name": "stdout",
     "output_type": "stream",
     "text": [
      "             lat        lon           landcover\n",
      "40456  42.635008   4.372315               Water\n",
      "40457  53.772584  -1.064018  ForestNaturalAreas\n",
      "40458  40.468550   6.757071    AgriculturalArea\n",
      "40459  51.167547  13.863001    AgriculturalArea\n",
      "40460  56.511879  15.309247    AgriculturalArea\n"
     ]
    }
   ],
   "source": [
    "df = dd.read_csv('Data/SamplesSet*.csv')\n",
    "df = df.compute()\n",
    "df = df.reset_index(drop=True)\n",
    "print(df.tail())"
   ]
  },
  {
   "cell_type": "markdown",
   "id": "829bd078-a88c-4f11-8158-c77b463f2ea6",
   "metadata": {},
   "source": [
    "## Data exploration"
   ]
  },
  {
   "cell_type": "markdown",
   "id": "9ba7cf51-f1d2-46a6-ace6-a13b48d7f4ea",
   "metadata": {},
   "source": [
    "This section of the code focuses on exploring what is in the code, what kind of land covers, and where is the majority of the points located"
   ]
  },
  {
   "cell_type": "code",
   "execution_count": 7,
   "id": "6b1b283f-1c53-418e-ab03-4447bbdb9f66",
   "metadata": {},
   "outputs": [
    {
     "name": "stdout",
     "output_type": "stream",
     "text": [
      "0       ForestNaturalAreas\n",
      "3                    Water\n",
      "4         AgriculturalArea\n",
      "7                 Wetlands\n",
      "14      ArtificialSurfaces\n",
      "1299                   NaN\n",
      "Name: landcover, dtype: object\n",
      "ForestNaturalAreas    15944\n",
      "AgriculturalArea      13788\n",
      "Water                  8494\n",
      "ArtificialSurfaces     1415\n",
      "Wetlands                816\n",
      "Name: landcover, dtype: int64\n"
     ]
    }
   ],
   "source": [
    "#if laze can be distinct_values = df['landcover'].drop_duplicates().compute()\n",
    "distinct_values = df['landcover'].drop_duplicates()\n",
    "print(distinct_values)\n",
    "distinct_value_counts = df['landcover'].value_counts()\n",
    "print(distinct_value_counts)"
   ]
  },
  {
   "cell_type": "code",
   "execution_count": 8,
   "id": "eb7592d2-ab46-4e6e-8bb0-184f6acb6743",
   "metadata": {},
   "outputs": [
    {
     "name": "stdout",
     "output_type": "stream",
     "text": [
      "The lat min value is: 36.20076975509693 and max: 71.52708720156912\n",
      "The lat min value is: -26.068806183526306 and max: 41.39790973452674\n"
     ]
    }
   ],
   "source": [
    "min_value_lat = df['lat'].min()\n",
    "max_value_lat = df['lat'].max()\n",
    "\n",
    "min_value_lon = df['lon'].min()\n",
    "max_value_lon= df['lon'].max()\n",
    "\n",
    "print(f\"The lat min value is: {min_value_lat} and max: {max_value_lat}\")\n",
    "print(f\"The lat min value is: {min_value_lon} and max: {max_value_lon}\")"
   ]
  },
  {
   "cell_type": "markdown",
   "id": "ca987002-3d4e-4b57-a807-a56ba90bd21d",
   "metadata": {},
   "source": [
    "**The bounding box list**  \n",
    "\n",
    "Find in which bounding box lies the majority of points, using the bounding box from comment by hduchesn on github in thread https://gist.github.com/graydon/11198540"
   ]
  },
  {
   "cell_type": "code",
   "execution_count": 9,
   "id": "ef0bcc95-bbb8-41bf-ab23-f8fd0dfca1ca",
   "metadata": {},
   "outputs": [],
   "source": [
    "import json\n",
    "\n",
    "with open('bounding_boxes.json', 'r') as file:\n",
    "    bounding_boxes = json.load(file)"
   ]
  },
  {
   "cell_type": "code",
   "execution_count": 11,
   "id": "5177ac09-efaa-4868-bbc9-c59c8c4a5864",
   "metadata": {},
   "outputs": [],
   "source": [
    "# check if in bouding box\n",
    "def is_in_bounding_box(lat, lon, bounding_box):\n",
    "    sw = bounding_box['sw']\n",
    "    ne = bounding_box['ne']\n",
    "    return sw['lat'] <= lat <= ne['lat'] and sw['lon'] <= lon <= ne['lon']\n",
    "\n",
    "\n",
    "dfs = []\n",
    "\n",
    "# count locations in each bounding box\n",
    "for code, box in bounding_boxes.items():\n",
    "    country_name = code\n",
    "    bounding_box = box\n",
    "    min_lat, min_lon = bounding_box['sw']['lat'], bounding_box['sw']['lon']\n",
    "    max_lat, max_lon = bounding_box['ne']['lat'], bounding_box['ne']['lon']\n",
    "    filtered_df = df[df.apply(lambda row: is_in_bounding_box(row['lat'], row['lon'], bounding_box), axis=1)]\n",
    "    count = len(filtered_df)\n",
    "    bounding_box_df = dd.from_pandas(pd.DataFrame({'Country': [country_name], 'Code': [code], 'Count': [count]}), npartitions=1)\n",
    "    dfs.append(bounding_box_df)\n",
    "\n",
    "counts_df = dd.concat(dfs)"
   ]
  },
  {
   "cell_type": "markdown",
   "id": "8a7a863d-4da0-46fa-b65c-6b4b2ec2c56b",
   "metadata": {},
   "source": [
    "Plot the top 20 countries with most location from the dataset"
   ]
  },
  {
   "cell_type": "code",
   "execution_count": 12,
   "id": "7ae488fe-f8e3-4b9b-aa62-bcaeacc28a05",
   "metadata": {},
   "outputs": [
    {
     "data": {
      "image/png": "[encoded data removed]",
      "text/plain": [
       "<Figure size 1000x600 with 1 Axes>"
      ]
     },
     "metadata": {},
     "output_type": "display_data"
    }
   ],
   "source": [
    "import matplotlib.pyplot as plt\n",
    "\n",
    "top_scores = counts_df.nlargest(20, 'Count')\n",
    "top_scores_pd = top_scores.compute()\n",
    "\n",
    "# Plotting\n",
    "plt.figure(figsize=(10, 6))\n",
    "plt.bar(top_scores_pd['Country'], top_scores_pd['Count'])\n",
    "plt.xlabel('Country')\n",
    "plt.ylabel('Count')\n",
    "plt.title('Top 20 Countries by Count')\n",
    "plt.xticks(rotation=45)\n",
    "plt.show()"
   ]
  },
  {
   "cell_type": "markdown",
   "id": "cf0053ac-8655-4e56-8e59-993f0f4372e5",
   "metadata": {},
   "source": [
    "Based on the number of results located in a bounding box we decided to choose the France's bounding box "
   ]
  },
  {
   "cell_type": "markdown",
   "id": "c4e027b2-f4be-4a0b-909f-d61559b72935",
   "metadata": {},
   "source": [
    "**Get only the data frame of points in France**"
   ]
  },
  {
   "cell_type": "code",
   "execution_count": 10,
   "id": "3b3ed48b-f5bd-4bfa-9e4e-43ca787ca649",
   "metadata": {},
   "outputs": [
    {
     "name": "stdout",
     "output_type": "stream",
     "text": [
      "            lat       lon           landcover\n",
      "6333  45.997465  0.743937  ForestNaturalAreas\n",
      "6334  44.776113  0.357572    AgriculturalArea\n",
      "6335  51.094544  4.601532    AgriculturalArea\n",
      "6336  42.310443  6.377444               Water\n",
      "6337  42.635008  4.372315               Water\n"
     ]
    }
   ],
   "source": [
    "min_latitude = 41.303\n",
    "max_latitude = 51.124\n",
    "min_longitude = -5.142\n",
    "max_longitude = 9.561\n",
    "\n",
    "# Filter points within the bounding box\n",
    "france_points = df[\n",
    "    (df['lat'] >= min_latitude) & \n",
    "    (df['lat'] <= max_latitude) & \n",
    "    (df['lon'] >= min_longitude) & \n",
    "    (df['lon'] <= max_longitude)\n",
    "]\n",
    "\n",
    "france_points = france_points.reset_index(drop=True)\n",
    "\n",
    "print(france_points.tail())"
   ]
  },
  {
   "cell_type": "markdown",
   "id": "ee9f0b9c-807d-44d3-8fd0-ed0f181b2612",
   "metadata": {},
   "source": [
    "Reducing the number of points"
   ]
  },
  {
   "cell_type": "code",
   "execution_count": 11,
   "id": "5ac0bfc2-8172-49fa-be88-6f3f9d7f2dbe",
   "metadata": {},
   "outputs": [],
   "source": [
    "bounding_box_smaller = ee.Geometry.Rectangle([-3.142, 43.303, 6.561, 49.124])"
   ]
  },
  {
   "cell_type": "code",
   "execution_count": 12,
   "id": "3264085c-a91b-43c3-85ba-76677444f8ae",
   "metadata": {},
   "outputs": [
    {
     "name": "stdout",
     "output_type": "stream",
     "text": [
      "            lat       lon           landcover\n",
      "2692  48.719424  3.488222  ForestNaturalAreas\n",
      "2693  44.669344  0.413262    AgriculturalArea\n",
      "2694  47.536590  2.006475    AgriculturalArea\n",
      "2695  45.997465  0.743937  ForestNaturalAreas\n",
      "2696  44.776113  0.357572    AgriculturalArea\n"
     ]
    }
   ],
   "source": [
    "min_latitude = 43.303\n",
    "max_latitude = 49.124\n",
    "min_longitude = -3.142\n",
    "max_longitude = 6.561\n",
    "\n",
    "# Filter points within the bounding box\n",
    "france_points_small = df[\n",
    "    (df['lat'] >= min_latitude) & \n",
    "    (df['lat'] <= max_latitude) & \n",
    "    (df['lon'] >= min_longitude) & \n",
    "    (df['lon'] <= max_longitude)\n",
    "]\n",
    "\n",
    "france_points_small = france_points_small.reset_index(drop=True)\n",
    "\n",
    "print(france_points_small.tail())"
   ]
  },
  {
   "cell_type": "markdown",
   "id": "7a3367b8-9409-4ec9-959e-10cd424ec8c4",
   "metadata": {},
   "source": [
    "## Sentinel image  \n",
    "\n",
    "Loading the Sentinel image for summer in France and filtering out the images with clouds on. The percentage of Cloudy pixel below 30 is enough as it will be compensated by the median, the map does not need to be continuous - if there are small factor that is all right."
   ]
  },
  {
   "cell_type": "code",
   "execution_count": 13,
   "id": "a70686a5-f3d1-44a5-bc20-f0cd87c03399",
   "metadata": {},
   "outputs": [],
   "source": [
    "# get the image\n",
    "bounding_box = ee.Geometry.Rectangle([-5.4534286, 41.2632185, 9.8678344, 51.268318])\n",
    "center = bounding_box.centroid()\n",
    "\n",
    "map_france = ee.ImageCollection(\"COPERNICUS/S2_SR_HARMONIZED\")\\\n",
    "  .filterBounds(bounding_box)\\\n",
    "  .filterDate('2023-06-01', '2023-08-30')\\\n",
    "  .filterMetadata('CLOUDY_PIXEL_PERCENTAGE', 'less_than', 30) \\\n",
    "  .sort('CLOUDY_PIXEL_PERCENTAGE', False)\n"
   ]
  },
  {
   "cell_type": "code",
   "execution_count": 14,
   "id": "0a2159e6-860d-47a4-90d9-eef570ee80ad",
   "metadata": {},
   "outputs": [
    {
     "name": "stdout",
     "output_type": "stream",
     "text": [
      "Number of images in the collection:  3007\n"
     ]
    }
   ],
   "source": [
    "# get number of images in collection\n",
    "listOfImages = map_france.aggregate_array('system:index').getInfo()\n",
    "print('Number of images in the collection: ', len(listOfImages))\n"
   ]
  },
  {
   "cell_type": "code",
   "execution_count": 15,
   "id": "807fffbe-5ec8-47e9-9038-9237f02c387a",
   "metadata": {},
   "outputs": [],
   "source": [
    "# Set visualization parameters for land cover R, G, B\n",
    "vis_params = {\"min\": 0, \n",
    "              \"max\": 4000, \n",
    "              \"bands\": [\"B4\", \"B3\", \"B2\"]}  \n",
    "\n",
    "# calculate the median of the image\n",
    "median_image = map_france.median()"
   ]
  },
  {
   "cell_type": "code",
   "execution_count": 16,
   "id": "23a2efd8-0a8c-425f-9dfb-2c3190d8372d",
   "metadata": {},
   "outputs": [
    {
     "data": {
      "application/vnd.jupyter.widget-view+json": {
       "model_id": "ebc8715aea9e4096a165955a7abd6825",
       "version_major": 2,
       "version_minor": 0
      },
      "text/plain": [
       "Map(center=[46.36657487868256, 2.207202899999996], controls=(WidgetControl(options=['position', 'transparent_b…"
      ]
     },
     "metadata": {},
     "output_type": "display_data"
    }
   ],
   "source": [
    "#initialize and display the original map\n",
    "Map = geemap.Map()\n",
    "Map.addLayer(median_image, vis_params, \"Median\", True) \n",
    "Map.centerObject(center, 5)\n",
    "Map"
   ]
  },
  {
   "cell_type": "markdown",
   "id": "f58873b4-6864-4c14-ab84-74c5622274e5",
   "metadata": {},
   "source": [
    "# Proceed with clustering \n",
    "\n",
    "First we check what bands are available in the image"
   ]
  },
  {
   "cell_type": "code",
   "execution_count": 17,
   "id": "1ec4735f-38fa-4e3e-ab09-375abcac670c",
   "metadata": {},
   "outputs": [
    {
     "name": "stdout",
     "output_type": "stream",
     "text": [
      "Band names:  ['B1', 'B2', 'B3', 'B4', 'B5', 'B6', 'B7', 'B8', 'B8A', 'B9', 'B11', 'B12', 'AOT', 'WVP', 'SCL', 'TCI_R', 'TCI_G', 'TCI_B', 'MSK_CLDPRB', 'MSK_SNWPRB', 'QA10', 'QA20', 'QA60']\n"
     ]
    }
   ],
   "source": [
    "# get the available bands \n",
    "bandNames = median_image.bandNames() \n",
    "print('Band names: ', bandNames.getInfo()) # ee.List of band names "
   ]
  },
  {
   "cell_type": "markdown",
   "id": "36c9216e-5df5-494f-940f-0106aecead9e",
   "metadata": {},
   "source": [
    "## Start training"
   ]
  },
  {
   "cell_type": "code",
   "execution_count": 158,
   "id": "92caa00a-8861-4843-86cc-1a92e5680663",
   "metadata": {},
   "outputs": [
    {
     "name": "stdout",
     "output_type": "stream",
     "text": [
      "CPU times: user 195 µs, sys: 55 µs, total: 250 µs\n",
      "Wall time: 278 µs\n"
     ]
    }
   ],
   "source": [
    "%%time\n",
    "training = median_image.sample(**{\n",
    "    'region':bounding_box,\n",
    "    'scale': 30,\n",
    "    'numPixels': 10000,\n",
    "    'seed': 0,\n",
    "    'tileScale' : 2,\n",
    "    'geometries': True # the geometries are not included\n",
    "})"
   ]
  },
  {
   "cell_type": "markdown",
   "id": "bed1ac9b-8adc-4012-a3da-69274ca53abb",
   "metadata": {},
   "source": [
    "Display the training results"
   ]
  },
  {
   "cell_type": "code",
   "execution_count": 159,
   "id": "e30da5e4-0f40-4757-82c0-e16560e44b09",
   "metadata": {},
   "outputs": [
    {
     "data": {
      "application/vnd.jupyter.widget-view+json": {
       "model_id": "5e053ba277a246718a3f3d0d1edd1bbd",
       "version_major": 2,
       "version_minor": 0
      },
      "text/plain": [
       "Map(bottom=3203.0, center=[46.34777003755111, 2.2390951036287725], controls=(WidgetControl(options=['position'…"
      ]
     },
     "metadata": {},
     "output_type": "display_data"
    }
   ],
   "source": [
    "Map.addLayer(training, {}, 'training', False)\n",
    "Map"
   ]
  },
  {
   "cell_type": "code",
   "execution_count": 122,
   "id": "a5d78626-24f5-452d-9718-0733253e6a55",
   "metadata": {},
   "outputs": [
    {
     "name": "stdout",
     "output_type": "stream",
     "text": [
      "CPU times: user 15 µs, sys: 4 µs, total: 19 µs\n",
      "Wall time: 37.2 µs\n"
     ]
    }
   ],
   "source": [
    "%time\n",
    "n_clusters = 5\n",
    "clusterer = ee.Clusterer.wekaKMeans(n_clusters).train(training)\n",
    "\n",
    "# Cluster the input using the trained clusterer.\n",
    "result = median_image.cluster(clusterer)"
   ]
  },
  {
   "cell_type": "code",
   "execution_count": null,
   "id": "6d45e5d6-7936-4da4-b1cc-12e500c91d43",
   "metadata": {},
   "outputs": [],
   "source": [
    "cluster_ids = result.select(['cluster'])\n",
    "print(cluster_ids)"
   ]
  },
  {
   "cell_type": "code",
   "execution_count": 95,
   "id": "00c0e393-6f89-4e55-aafa-f083bf8833d4",
   "metadata": {},
   "outputs": [
    {
     "data": {
      "application/vnd.jupyter.widget-view+json": {
       "model_id": "eb62428e335e475b8e17e2c7e453659e",
       "version_major": 2,
       "version_minor": 0
      },
      "text/plain": [
       "Map(bottom=3200.0, center=[46.437856895024204, 3.8004766678897144], controls=(WidgetControl(options=['position…"
      ]
     },
     "metadata": {},
     "output_type": "display_data"
    }
   ],
   "source": [
    "Map.addLayer(result.randomVisualizer(), {}, 'clusters')\n",
    "Map"
   ]
  },
  {
   "cell_type": "markdown",
   "id": "e29a6013-969c-4c39-9747-79364f36bce3",
   "metadata": {},
   "source": [
    "Assign custom colors to the bands - visual aid to determine which band is which"
   ]
  },
  {
   "cell_type": "code",
   "execution_count": 96,
   "id": "30e8a6d3-9f75-4e63-8589-41d4100f5642",
   "metadata": {},
   "outputs": [
    {
     "data": {
      "application/vnd.jupyter.widget-view+json": {
       "model_id": "eb62428e335e475b8e17e2c7e453659e",
       "version_major": 2,
       "version_minor": 0
      },
      "text/plain": [
       "Map(bottom=3200.0, center=[46.437856895024204, 3.8004766678897144], controls=(WidgetControl(options=['position…"
      ]
     },
     "metadata": {},
     "output_type": "display_data"
    }
   ],
   "source": [
    "palette = ['ff0000', '00ff00', '0000ff', 'ffff00', 'ff00ff'] # Add or modify colors as needed\n",
    "\n",
    "# Create a visualization parameter with the specified palette\n",
    "vis_params = {'min': 0, 'max': n_clusters - 1, 'palette': palette}\n",
    "\n",
    "# Add the clustered result to the map using the custom visualization parameters\n",
    "Map.addLayer(result, vis_params, 'clusters')\n",
    "\n",
    "Map"
   ]
  },
  {
   "cell_type": "markdown",
   "id": "28a94c11-9329-4ca3-bf21-12d86141a7ba",
   "metadata": {},
   "source": [
    "# Assessing the performance"
   ]
  },
  {
   "cell_type": "code",
   "execution_count": 129,
   "id": "7b4006e7-eb51-402e-9475-b539707ee860",
   "metadata": {},
   "outputs": [
    {
     "data": {
      "text/html": [
       "<div>\n",
       "<style scoped>\n",
       "    .dataframe tbody tr th:only-of-type {\n",
       "        vertical-align: middle;\n",
       "    }\n",
       "\n",
       "    .dataframe tbody tr th {\n",
       "        vertical-align: top;\n",
       "    }\n",
       "\n",
       "    .dataframe thead th {\n",
       "        text-align: right;\n",
       "    }\n",
       "</style>\n",
       "<table border=\"1\" class=\"dataframe\">\n",
       "  <thead>\n",
       "    <tr style=\"text-align: right;\">\n",
       "      <th></th>\n",
       "      <th>lat</th>\n",
       "      <th>lon</th>\n",
       "      <th>landcover</th>\n",
       "      <th>cluster</th>\n",
       "    </tr>\n",
       "  </thead>\n",
       "  <tbody>\n",
       "    <tr>\n",
       "      <th>0</th>\n",
       "      <td>46.039497</td>\n",
       "      <td>-2.452921</td>\n",
       "      <td>ForestNaturalAreas</td>\n",
       "      <td>2</td>\n",
       "    </tr>\n",
       "    <tr>\n",
       "      <th>1</th>\n",
       "      <td>47.069038</td>\n",
       "      <td>-2.747037</td>\n",
       "      <td>ForestNaturalAreas</td>\n",
       "      <td>2</td>\n",
       "    </tr>\n",
       "    <tr>\n",
       "      <th>2</th>\n",
       "      <td>44.641800</td>\n",
       "      <td>3.855142</td>\n",
       "      <td>ForestNaturalAreas</td>\n",
       "      <td>0</td>\n",
       "    </tr>\n",
       "    <tr>\n",
       "      <th>3</th>\n",
       "      <td>47.590344</td>\n",
       "      <td>4.352115</td>\n",
       "      <td>AgriculturalArea</td>\n",
       "      <td>3</td>\n",
       "    </tr>\n",
       "    <tr>\n",
       "      <th>4</th>\n",
       "      <td>44.719964</td>\n",
       "      <td>-1.344896</td>\n",
       "      <td>AgriculturalArea</td>\n",
       "      <td>2</td>\n",
       "    </tr>\n",
       "  </tbody>\n",
       "</table>\n",
       "</div>"
      ],
      "text/plain": [
       "         lat       lon           landcover  cluster\n",
       "0  46.039497 -2.452921  ForestNaturalAreas        2\n",
       "1  47.069038 -2.747037  ForestNaturalAreas        2\n",
       "2  44.641800  3.855142  ForestNaturalAreas        0\n",
       "3  47.590344  4.352115    AgriculturalArea        3\n",
       "4  44.719964 -1.344896    AgriculturalArea        2"
      ]
     },
     "execution_count": 129,
     "metadata": {},
     "output_type": "execute_result"
    }
   ],
   "source": [
    "def get_cluster_for_coordinates(lat, lon):\n",
    "    point = ee.Geometry.Point(lon, lat)\n",
    "    cluster = result.reduceRegion(ee.Reducer.first(), point, 80)  # Adjust the scale as needed\n",
    "    return cluster.get('cluster').getInfo()\n",
    "\n",
    "france_points['cluster'] = france_points.apply(lambda row: get_cluster_for_coordinates(row['lat'], row['lon']), axis=1)\n",
    "france_points.head()\n"
   ]
  },
  {
   "cell_type": "code",
   "execution_count": 130,
   "id": "ecaeb21e-2b48-4747-9357-496319495bba",
   "metadata": {},
   "outputs": [
    {
     "name": "stdout",
     "output_type": "stream",
     "text": [
      "         lat       lon           landcover  cluster\n",
      "0  46.039497 -2.452921  ForestNaturalAreas        2\n",
      "1  47.069038 -2.747037  ForestNaturalAreas        2\n",
      "2  44.641800  3.855142  ForestNaturalAreas        0\n",
      "3  47.590344  4.352115    AgriculturalArea        3\n",
      "4  44.719964 -1.344896    AgriculturalArea        2\n"
     ]
    }
   ],
   "source": [
    "print(france_points.head())"
   ]
  },
  {
   "cell_type": "code",
   "execution_count": 22,
   "id": "27a14e10-04e1-4188-a849-2920d85b89e0",
   "metadata": {},
   "outputs": [],
   "source": [
    "import pickle"
   ]
  },
  {
   "cell_type": "code",
   "execution_count": 132,
   "id": "a30cdc9a-487b-470c-8cc6-7d29391cbb79",
   "metadata": {},
   "outputs": [],
   "source": [
    "with open('france_points_big.pickle', 'wb') as handle:\n",
    "    pickle.dump(france_points, handle)"
   ]
  },
  {
   "cell_type": "code",
   "execution_count": 133,
   "id": "82e505dc-2f85-44de-bd19-9896c2a2c4bd",
   "metadata": {},
   "outputs": [
    {
     "data": {
      "image/png": "[encoded data removed]",
      "text/plain": [
       "<Figure size 640x480 with 1 Axes>"
      ]
     },
     "metadata": {},
     "output_type": "display_data"
    }
   ],
   "source": [
    "grouped_data = france_points.groupby(['cluster', 'landcover']).size().reset_index(name='count')\n",
    "\n",
    "# Pivot the data to create a table suitable for plotting\n",
    "pivot_data = grouped_data.pivot(index='cluster', columns='landcover', values='count').fillna(0)\n",
    "\n",
    "colors = {\n",
    "    'Water': 'blue',\n",
    "    'ForestNaturalAreas': 'green',\n",
    "    'ArtificialSurfaces': 'grey',\n",
    "    'Wetlands': 'purple',\n",
    "    'AgriculturalArea': '#FFD700'\n",
    "}\n",
    "\n",
    "# Plotting with custom colors\n",
    "pivot_data.plot(kind='bar', stacked=True, color=[colors[col] for col in pivot_data.columns])\n",
    "plt.xlabel('Cluster')\n",
    "plt.ylabel('Count')\n",
    "plt.title('Distribution of Points per Cluster for Each Landcover')\n",
    "plt.show()"
   ]
  },
  {
   "cell_type": "markdown",
   "id": "1224b505-a776-473c-9da0-b3df4907752e",
   "metadata": {},
   "source": [
    "It shows that the clustering algorithm did no do to well"
   ]
  },
  {
   "cell_type": "markdown",
   "id": "ef732b93-5f6d-43b0-a1fd-e6348fe66f8c",
   "metadata": {},
   "source": [
    "# Poland - try no 2"
   ]
  },
  {
   "cell_type": "code",
   "execution_count": 18,
   "id": "cb1a251b-d5e2-4dbc-b99c-d56298168000",
   "metadata": {},
   "outputs": [
    {
     "data": {
      "text/html": [
       "<div>\n",
       "<style scoped>\n",
       "    .dataframe tbody tr th:only-of-type {\n",
       "        vertical-align: middle;\n",
       "    }\n",
       "\n",
       "    .dataframe tbody tr th {\n",
       "        vertical-align: top;\n",
       "    }\n",
       "\n",
       "    .dataframe thead th {\n",
       "        text-align: right;\n",
       "    }\n",
       "</style>\n",
       "<table border=\"1\" class=\"dataframe\">\n",
       "  <thead>\n",
       "    <tr style=\"text-align: right;\">\n",
       "      <th></th>\n",
       "      <th>lat</th>\n",
       "      <th>lon</th>\n",
       "      <th>landcover</th>\n",
       "    </tr>\n",
       "  </thead>\n",
       "  <tbody>\n",
       "    <tr>\n",
       "      <th>1464</th>\n",
       "      <td>53.372462</td>\n",
       "      <td>20.347381</td>\n",
       "      <td>AgriculturalArea</td>\n",
       "    </tr>\n",
       "    <tr>\n",
       "      <th>1465</th>\n",
       "      <td>54.591151</td>\n",
       "      <td>20.857160</td>\n",
       "      <td>Water</td>\n",
       "    </tr>\n",
       "    <tr>\n",
       "      <th>1466</th>\n",
       "      <td>54.543125</td>\n",
       "      <td>21.584504</td>\n",
       "      <td>ForestNaturalAreas</td>\n",
       "    </tr>\n",
       "    <tr>\n",
       "      <th>1467</th>\n",
       "      <td>51.554761</td>\n",
       "      <td>14.374913</td>\n",
       "      <td>ForestNaturalAreas</td>\n",
       "    </tr>\n",
       "    <tr>\n",
       "      <th>1468</th>\n",
       "      <td>53.458657</td>\n",
       "      <td>21.984004</td>\n",
       "      <td>ArtificialSurfaces</td>\n",
       "    </tr>\n",
       "  </tbody>\n",
       "</table>\n",
       "</div>"
      ],
      "text/plain": [
       "            lat        lon           landcover\n",
       "1464  53.372462  20.347381    AgriculturalArea\n",
       "1465  54.591151  20.857160               Water\n",
       "1466  54.543125  21.584504  ForestNaturalAreas\n",
       "1467  51.554761  14.374913  ForestNaturalAreas\n",
       "1468  53.458657  21.984004  ArtificialSurfaces"
      ]
     },
     "execution_count": 18,
     "metadata": {},
     "output_type": "execute_result"
    }
   ],
   "source": [
    "min_latitude = 49.0020468\n",
    "max_latitude = 55.0336963\n",
    "min_longitude = 14.1229707\n",
    "max_longitude = 24.145783\n",
    "\n",
    "\n",
    "# Filter points within the bounding box\n",
    "pol_points = df[\n",
    "    (df['lat'] >= min_latitude) & \n",
    "    (df['lat'] <= max_latitude) & \n",
    "    (df['lon'] >= min_longitude) & \n",
    "    (df['lon'] <= max_longitude)\n",
    "]\n",
    "\n",
    "pol_points = pol_points.reset_index(drop=True)\n",
    "pol_points.tail()"
   ]
  },
  {
   "cell_type": "code",
   "execution_count": 19,
   "id": "34363221-910c-4515-b792-a8354cfdfd2e",
   "metadata": {},
   "outputs": [
    {
     "data": {
      "application/vnd.jupyter.widget-view+json": {
       "model_id": "f1e4ff5ec2a942f79d7f3842f875becf",
       "version_major": 2,
       "version_minor": 0
      },
      "text/plain": [
       "Map(center=[52.056013452326226, 19.134376850000006], controls=(WidgetControl(options=['position', 'transparent…"
      ]
     },
     "metadata": {},
     "output_type": "display_data"
    }
   ],
   "source": [
    "bounding_box_pol = ee.Geometry.Rectangle([14.1229707,49.0020468,24.145783,55.0336963])\n",
    "\n",
    "center = bounding_box_pol.centroid()\n",
    "\n",
    "map_pol = ee.ImageCollection(\"COPERNICUS/S2_SR_HARMONIZED\")\\\n",
    "  .filterBounds(bounding_box_pol)\\\n",
    "  .filterDate('2023-06-01', '2023-08-30')\\\n",
    "  .filterMetadata('CLOUDY_PIXEL_PERCENTAGE', 'less_than', 25)\n",
    "\n",
    "vis_params = {\"min\": 0, \n",
    "              \"max\": 4000, \n",
    "              \"bands\": [\"B4\", \"B3\", \"B2\"]}  \n",
    "\n",
    "median_pol = map_pol.median()\n",
    "\n",
    "\n",
    "MapPol = geemap.Map()\n",
    "MapPol.addLayer(median_pol, vis_params, \"Median\", True) \n",
    "MapPol.centerObject(center, 5)\n",
    "MapPol"
   ]
  },
  {
   "cell_type": "code",
   "execution_count": 20,
   "id": "f3f4d200-a591-4e1a-8d2e-cb73e2a90760",
   "metadata": {},
   "outputs": [
    {
     "name": "stdout",
     "output_type": "stream",
     "text": [
      "CPU times: user 61 µs, sys: 11 µs, total: 72 µs\n",
      "Wall time: 75.1 µs\n"
     ]
    }
   ],
   "source": [
    "%%time\n",
    "training_pol = median_pol.sample(**{\n",
    "    'region':bounding_box_pol,\n",
    "    'scale': 30,\n",
    "    'numPixels': 6000,\n",
    "    'seed': 0,\n",
    "    'tileScale' : 4,\n",
    "    'geometries': True # the geometries are not included\n",
    "})"
   ]
  },
  {
   "cell_type": "code",
   "execution_count": 160,
   "id": "d9638d26-4e15-4926-9556-9fcb26f05766",
   "metadata": {},
   "outputs": [
    {
     "data": {
      "application/vnd.jupyter.widget-view+json": {
       "model_id": "57dde6238a4643bd8a5b20b7bd8cf1bb",
       "version_major": 2,
       "version_minor": 0
      },
      "text/plain": [
       "Map(bottom=1729.0, center=[47.68305958029958, 42.47517226919228], controls=(WidgetControl(options=['position',…"
      ]
     },
     "metadata": {},
     "output_type": "display_data"
    }
   ],
   "source": [
    "MapPol.addLayer(training_pol, {}, 'training', False)\n",
    "MapPol"
   ]
  },
  {
   "cell_type": "code",
   "execution_count": 166,
   "id": "b5d17735-6740-4478-bc4b-bdc80ab06703",
   "metadata": {},
   "outputs": [],
   "source": [
    "n_clusters = 5\n",
    "clusterer_pol = ee.Clusterer.wekaKMeans(n_clusters).train(training_pol)\n",
    "\n",
    "# Cluster the input using the trained clusterer.\n",
    "result_pol = median_pol.cluster(clusterer_pol)"
   ]
  },
  {
   "cell_type": "code",
   "execution_count": 169,
   "id": "ba7d720a-4ea6-474e-b3c5-b5942ef7458a",
   "metadata": {},
   "outputs": [],
   "source": [
    "def get_cluster_for_coordinates_pol(lat, lon):\n",
    "    point = ee.Geometry.Point(lon, lat)\n",
    "    cluster = result_pol.reduceRegion(ee.Reducer.first(), point, 80)  # Adjust the scale as needed\n",
    "    return cluster.get('cluster').getInfo()"
   ]
  },
  {
   "cell_type": "code",
   "execution_count": 170,
   "id": "ce82c704-43d5-48b9-acbc-d588533c6975",
   "metadata": {},
   "outputs": [
    {
     "data": {
      "text/html": [
       "<div>\n",
       "<style scoped>\n",
       "    .dataframe tbody tr th:only-of-type {\n",
       "        vertical-align: middle;\n",
       "    }\n",
       "\n",
       "    .dataframe tbody tr th {\n",
       "        vertical-align: top;\n",
       "    }\n",
       "\n",
       "    .dataframe thead th {\n",
       "        text-align: right;\n",
       "    }\n",
       "</style>\n",
       "<table border=\"1\" class=\"dataframe\">\n",
       "  <thead>\n",
       "    <tr style=\"text-align: right;\">\n",
       "      <th></th>\n",
       "      <th>lat</th>\n",
       "      <th>lon</th>\n",
       "      <th>landcover</th>\n",
       "      <th>cluster</th>\n",
       "    </tr>\n",
       "  </thead>\n",
       "  <tbody>\n",
       "    <tr>\n",
       "      <th>0</th>\n",
       "      <td>50.528283</td>\n",
       "      <td>17.876719</td>\n",
       "      <td>AgriculturalArea</td>\n",
       "      <td>4</td>\n",
       "    </tr>\n",
       "    <tr>\n",
       "      <th>1</th>\n",
       "      <td>52.834085</td>\n",
       "      <td>16.995086</td>\n",
       "      <td>AgriculturalArea</td>\n",
       "      <td>4</td>\n",
       "    </tr>\n",
       "    <tr>\n",
       "      <th>2</th>\n",
       "      <td>51.662047</td>\n",
       "      <td>22.945717</td>\n",
       "      <td>AgriculturalArea</td>\n",
       "      <td>1</td>\n",
       "    </tr>\n",
       "    <tr>\n",
       "      <th>3</th>\n",
       "      <td>50.948002</td>\n",
       "      <td>19.535284</td>\n",
       "      <td>AgriculturalArea</td>\n",
       "      <td>3</td>\n",
       "    </tr>\n",
       "    <tr>\n",
       "      <th>4</th>\n",
       "      <td>53.840378</td>\n",
       "      <td>23.110183</td>\n",
       "      <td>Water</td>\n",
       "      <td>1</td>\n",
       "    </tr>\n",
       "  </tbody>\n",
       "</table>\n",
       "</div>"
      ],
      "text/plain": [
       "         lat        lon         landcover  cluster\n",
       "0  50.528283  17.876719  AgriculturalArea        4\n",
       "1  52.834085  16.995086  AgriculturalArea        4\n",
       "2  51.662047  22.945717  AgriculturalArea        1\n",
       "3  50.948002  19.535284  AgriculturalArea        3\n",
       "4  53.840378  23.110183             Water        1"
      ]
     },
     "execution_count": 170,
     "metadata": {},
     "output_type": "execute_result"
    }
   ],
   "source": [
    "pol_points['cluster'] = pol_points.apply(lambda row: get_cluster_for_coordinates_pol(row['lat'], row['lon']), axis=1)\n",
    "pol_points.head()"
   ]
  },
  {
   "cell_type": "code",
   "execution_count": 171,
   "id": "262e15ce-4137-4f41-a022-8d469a9f394b",
   "metadata": {},
   "outputs": [],
   "source": [
    "with open('pol_points.pickle', 'wb') as handle:\n",
    "    pickle.dump(pol_points, handle)"
   ]
  },
  {
   "cell_type": "code",
   "execution_count": 172,
   "id": "afbe28ec-eb03-49ca-962e-a0e45518e5d1",
   "metadata": {},
   "outputs": [
    {
     "data": {
      "image/png": "[encoded data removed]",
      "text/plain": [
       "<Figure size 640x480 with 1 Axes>"
      ]
     },
     "metadata": {},
     "output_type": "display_data"
    }
   ],
   "source": [
    "grouped_data = pol_points.groupby(['cluster', 'landcover']).size().reset_index(name='count')\n",
    "\n",
    "# Pivot the data to create a table suitable for plotting\n",
    "pivot_data = grouped_data.pivot(index='cluster', columns='landcover', values='count').fillna(0)\n",
    "\n",
    "colors = {\n",
    "    'Water': 'blue',\n",
    "    'ForestNaturalAreas': 'green',\n",
    "    'ArtificialSurfaces': 'grey',\n",
    "    'Wetlands': 'purple',\n",
    "    'AgriculturalArea': '#FFD700'\n",
    "}\n",
    "\n",
    "# Plotting with custom colors\n",
    "pivot_data.plot(kind='bar', stacked=True, color=[colors[col] for col in pivot_data.columns])\n",
    "plt.xlabel('Cluster')\n",
    "plt.ylabel('Count')\n",
    "plt.title('Distribution of Points per Cluster for Each Landcover')\n",
    "plt.show()"
   ]
  },
  {
   "cell_type": "code",
   "execution_count": 173,
   "id": "7303f154-7472-4627-85da-0044e9ce442d",
   "metadata": {},
   "outputs": [],
   "source": [
    "map_france_small = ee.ImageCollection(\"COPERNICUS/S2_SR_HARMONIZED\")\\\n",
    "  .filterBounds(bounding_box_smaller)\\\n",
    "  .filterDate('2023-06-01', '2023-08-30')\\\n",
    "  .filterMetadata('CLOUDY_PIXEL_PERCENTAGE', 'less_than', 30)\n",
    "\n",
    "\n",
    "bands_of_interest = ['B2', 'B3', 'B4']  # Assuming B4 is Red, B3 is Green, B2 is Blue\n",
    "\n",
    "map_smaller = map_france_small.select(bands_of_interest)\n",
    "map_smaller_median = map_smaller.median()\n",
    "\n"
   ]
  },
  {
   "cell_type": "code",
   "execution_count": 174,
   "id": "2a6e8510-a355-4e0f-8f9e-f5f4f38b8da0",
   "metadata": {},
   "outputs": [],
   "source": [
    "training_small = map_smaller_median.sample(**{\n",
    "    'region':bounding_box_smaller,\n",
    "    'scale': 30,\n",
    "    'numPixels': 5000,\n",
    "    'seed': 0,\n",
    "    'tileScale' : 8,\n",
    "    'geometries': True # the geometries are not included\n",
    "})"
   ]
  },
  {
   "cell_type": "code",
   "execution_count": 175,
   "id": "c4f02957-0d9e-4c54-9740-ee2c933f5f64",
   "metadata": {},
   "outputs": [],
   "source": [
    "n_clusters = 5\n",
    "clusterer_france = ee.Clusterer.wekaKMeans(n_clusters).train(training_small)\n",
    "\n",
    "# Cluster the input using the trained clusterer.\n",
    "result_france_small = map_smaller_median.cluster(clusterer_france)"
   ]
  },
  {
   "cell_type": "code",
   "execution_count": 176,
   "id": "ecafbfca-a41d-4ad3-9330-3699f256bf2f",
   "metadata": {},
   "outputs": [],
   "source": [
    "def get_cluster_for_coordinates_small(lat, lon):\n",
    "    point = ee.Geometry.Point(lon, lat)\n",
    "    cluster = result_france_small.reduceRegion(ee.Reducer.first(), point, 80)  # Adjust the scale as needed\n",
    "    return cluster.get('cluster').getInfo()"
   ]
  },
  {
   "cell_type": "code",
   "execution_count": 177,
   "id": "6471f56f-6fff-407c-be22-d472591ada8e",
   "metadata": {},
   "outputs": [
    {
     "data": {
      "text/html": [
       "<div>\n",
       "<style scoped>\n",
       "    .dataframe tbody tr th:only-of-type {\n",
       "        vertical-align: middle;\n",
       "    }\n",
       "\n",
       "    .dataframe tbody tr th {\n",
       "        vertical-align: top;\n",
       "    }\n",
       "\n",
       "    .dataframe thead th {\n",
       "        text-align: right;\n",
       "    }\n",
       "</style>\n",
       "<table border=\"1\" class=\"dataframe\">\n",
       "  <thead>\n",
       "    <tr style=\"text-align: right;\">\n",
       "      <th></th>\n",
       "      <th>lat</th>\n",
       "      <th>lon</th>\n",
       "      <th>landcover</th>\n",
       "      <th>cluster</th>\n",
       "    </tr>\n",
       "  </thead>\n",
       "  <tbody>\n",
       "    <tr>\n",
       "      <th>0</th>\n",
       "      <td>46.039497</td>\n",
       "      <td>-2.452921</td>\n",
       "      <td>ForestNaturalAreas</td>\n",
       "      <td>1</td>\n",
       "    </tr>\n",
       "    <tr>\n",
       "      <th>1</th>\n",
       "      <td>47.069038</td>\n",
       "      <td>-2.747037</td>\n",
       "      <td>ForestNaturalAreas</td>\n",
       "      <td>1</td>\n",
       "    </tr>\n",
       "    <tr>\n",
       "      <th>2</th>\n",
       "      <td>44.641800</td>\n",
       "      <td>3.855142</td>\n",
       "      <td>ForestNaturalAreas</td>\n",
       "      <td>1</td>\n",
       "    </tr>\n",
       "    <tr>\n",
       "      <th>3</th>\n",
       "      <td>47.590344</td>\n",
       "      <td>4.352115</td>\n",
       "      <td>AgriculturalArea</td>\n",
       "      <td>4</td>\n",
       "    </tr>\n",
       "    <tr>\n",
       "      <th>4</th>\n",
       "      <td>44.719964</td>\n",
       "      <td>-1.344896</td>\n",
       "      <td>AgriculturalArea</td>\n",
       "      <td>1</td>\n",
       "    </tr>\n",
       "  </tbody>\n",
       "</table>\n",
       "</div>"
      ],
      "text/plain": [
       "         lat       lon           landcover  cluster\n",
       "0  46.039497 -2.452921  ForestNaturalAreas        1\n",
       "1  47.069038 -2.747037  ForestNaturalAreas        1\n",
       "2  44.641800  3.855142  ForestNaturalAreas        1\n",
       "3  47.590344  4.352115    AgriculturalArea        4\n",
       "4  44.719964 -1.344896    AgriculturalArea        1"
      ]
     },
     "execution_count": 177,
     "metadata": {},
     "output_type": "execute_result"
    }
   ],
   "source": [
    "france_points_small['cluster'] = france_points_small.apply(lambda row: get_cluster_for_coordinates_small(row['lat'], row['lon']), axis=1)\n",
    "france_points_small.head()"
   ]
  },
  {
   "cell_type": "code",
   "execution_count": 178,
   "id": "146f3b4c-4001-4704-8896-a13a8dbaa5e6",
   "metadata": {},
   "outputs": [],
   "source": [
    "with open('france_points_bands.pickle', 'wb') as handle:\n",
    "    pickle.dump(france_points_small, handle)"
   ]
  },
  {
   "cell_type": "code",
   "execution_count": 179,
   "id": "8739b7c6-915e-49f3-9354-1cec14b90e1a",
   "metadata": {},
   "outputs": [
    {
     "data": {
      "image/png": "[encoded data removed]",
      "text/plain": [
       "<Figure size 640x480 with 1 Axes>"
      ]
     },
     "metadata": {},
     "output_type": "display_data"
    }
   ],
   "source": [
    "grouped_data = france_points_small.groupby(['cluster', 'landcover']).size().reset_index(name='count')\n",
    "\n",
    "# Pivot the data to create a table suitable for plotting\n",
    "pivot_data = grouped_data.pivot(index='cluster', columns='landcover', values='count').fillna(0)\n",
    "\n",
    "colors = {\n",
    "    'Water': 'blue',\n",
    "    'ForestNaturalAreas': 'green',\n",
    "    'ArtificialSurfaces': 'grey',\n",
    "    'Wetlands': 'purple',\n",
    "    'AgriculturalArea': '#FFD700'\n",
    "}\n",
    "\n",
    "# Plotting with custom colors\n",
    "pivot_data.plot(kind='bar', stacked=True, color=[colors[col] for col in pivot_data.columns])\n",
    "plt.xlabel('Cluster')\n",
    "plt.ylabel('Count')\n",
    "plt.title('Distribution of Points per Cluster for Each Landcover')\n",
    "plt.show()"
   ]
  },
  {
   "cell_type": "code",
   "execution_count": 180,
   "id": "fb6d761e-4e3f-4d2d-8953-587021318cb5",
   "metadata": {},
   "outputs": [
    {
     "data": {
      "text/html": [
       "<div>\n",
       "<style scoped>\n",
       "    .dataframe tbody tr th:only-of-type {\n",
       "        vertical-align: middle;\n",
       "    }\n",
       "\n",
       "    .dataframe tbody tr th {\n",
       "        vertical-align: top;\n",
       "    }\n",
       "\n",
       "    .dataframe thead th {\n",
       "        text-align: right;\n",
       "    }\n",
       "</style>\n",
       "<table border=\"1\" class=\"dataframe\">\n",
       "  <thead>\n",
       "    <tr style=\"text-align: right;\">\n",
       "      <th></th>\n",
       "      <th>lat</th>\n",
       "      <th>lon</th>\n",
       "      <th>landcover</th>\n",
       "      <th>cluster</th>\n",
       "    </tr>\n",
       "  </thead>\n",
       "  <tbody>\n",
       "    <tr>\n",
       "      <th>0</th>\n",
       "      <td>50.528283</td>\n",
       "      <td>17.876719</td>\n",
       "      <td>AgriculturalArea</td>\n",
       "      <td>1</td>\n",
       "    </tr>\n",
       "    <tr>\n",
       "      <th>1</th>\n",
       "      <td>52.834085</td>\n",
       "      <td>16.995086</td>\n",
       "      <td>AgriculturalArea</td>\n",
       "      <td>1</td>\n",
       "    </tr>\n",
       "    <tr>\n",
       "      <th>2</th>\n",
       "      <td>51.662047</td>\n",
       "      <td>22.945717</td>\n",
       "      <td>AgriculturalArea</td>\n",
       "      <td>2</td>\n",
       "    </tr>\n",
       "    <tr>\n",
       "      <th>3</th>\n",
       "      <td>50.948002</td>\n",
       "      <td>19.535284</td>\n",
       "      <td>AgriculturalArea</td>\n",
       "      <td>1</td>\n",
       "    </tr>\n",
       "    <tr>\n",
       "      <th>4</th>\n",
       "      <td>53.840378</td>\n",
       "      <td>23.110183</td>\n",
       "      <td>Water</td>\n",
       "      <td>2</td>\n",
       "    </tr>\n",
       "  </tbody>\n",
       "</table>\n",
       "</div>"
      ],
      "text/plain": [
       "         lat        lon         landcover  cluster\n",
       "0  50.528283  17.876719  AgriculturalArea        1\n",
       "1  52.834085  16.995086  AgriculturalArea        1\n",
       "2  51.662047  22.945717  AgriculturalArea        2\n",
       "3  50.948002  19.535284  AgriculturalArea        1\n",
       "4  53.840378  23.110183             Water        2"
      ]
     },
     "execution_count": 180,
     "metadata": {},
     "output_type": "execute_result"
    }
   ],
   "source": [
    "n_clusters = 3\n",
    "clusterer_pol = ee.Clusterer.wekaKMeans(n_clusters).train(training_pol)\n",
    "\n",
    "# Cluster the input using the trained clusterer.\n",
    "result_pol = median_pol.cluster(clusterer_pol)\n",
    "pol_points['cluster'] = pol_points.apply(lambda row: get_cluster_for_coordinates_pol(row['lat'], row['lon']), axis=1)\n",
    "pol_points.head()"
   ]
  },
  {
   "cell_type": "code",
   "execution_count": 181,
   "id": "f7dfb74b-1dd8-4fd4-bcd5-027c5a79c235",
   "metadata": {},
   "outputs": [],
   "source": [
    "with open('pol_points_less_cluster.pickle', 'wb') as handle:\n",
    "    pickle.dump(pol_points, handle)"
   ]
  },
  {
   "cell_type": "code",
   "execution_count": 182,
   "id": "ec41e6a4-eaed-4ec5-a0b9-aac75cc958a2",
   "metadata": {},
   "outputs": [
    {
     "data": {
      "image/png": "[encoded data removed]",
      "text/plain": [
       "<Figure size 640x480 with 1 Axes>"
      ]
     },
     "metadata": {},
     "output_type": "display_data"
    }
   ],
   "source": [
    "grouped_data = pol_points.groupby(['cluster', 'landcover']).size().reset_index(name='count')\n",
    "\n",
    "# Pivot the data to create a table suitable for plotting\n",
    "pivot_data = grouped_data.pivot(index='cluster', columns='landcover', values='count').fillna(0)\n",
    "\n",
    "colors = {\n",
    "    'Water': 'blue',\n",
    "    'ForestNaturalAreas': 'green',\n",
    "    'ArtificialSurfaces': 'grey',\n",
    "    'Wetlands': 'purple',\n",
    "    'AgriculturalArea': '#FFD700'\n",
    "}\n",
    "\n",
    "# Plotting with custom colors\n",
    "pivot_data.plot(kind='bar', stacked=True, color=[colors[col] for col in pivot_data.columns])\n",
    "plt.xlabel('Cluster')\n",
    "plt.ylabel('Count')\n",
    "plt.title('Distribution of Points per Cluster for Each Landcover')\n",
    "plt.show()"
   ]
  },
  {
   "cell_type": "code",
   "execution_count": 183,
   "id": "c73b1aea-3da6-4828-8871-51a330626a01",
   "metadata": {},
   "outputs": [
    {
     "data": {
      "text/html": [
       "<div>\n",
       "<style scoped>\n",
       "    .dataframe tbody tr th:only-of-type {\n",
       "        vertical-align: middle;\n",
       "    }\n",
       "\n",
       "    .dataframe tbody tr th {\n",
       "        vertical-align: top;\n",
       "    }\n",
       "\n",
       "    .dataframe thead th {\n",
       "        text-align: right;\n",
       "    }\n",
       "</style>\n",
       "<table border=\"1\" class=\"dataframe\">\n",
       "  <thead>\n",
       "    <tr style=\"text-align: right;\">\n",
       "      <th></th>\n",
       "      <th>lat</th>\n",
       "      <th>lon</th>\n",
       "      <th>landcover</th>\n",
       "      <th>cluster</th>\n",
       "    </tr>\n",
       "  </thead>\n",
       "  <tbody>\n",
       "    <tr>\n",
       "      <th>0</th>\n",
       "      <td>50.528283</td>\n",
       "      <td>17.876719</td>\n",
       "      <td>AgriculturalArea</td>\n",
       "      <td>2</td>\n",
       "    </tr>\n",
       "    <tr>\n",
       "      <th>1</th>\n",
       "      <td>52.834085</td>\n",
       "      <td>16.995086</td>\n",
       "      <td>AgriculturalArea</td>\n",
       "      <td>2</td>\n",
       "    </tr>\n",
       "    <tr>\n",
       "      <th>2</th>\n",
       "      <td>51.662047</td>\n",
       "      <td>22.945717</td>\n",
       "      <td>AgriculturalArea</td>\n",
       "      <td>1</td>\n",
       "    </tr>\n",
       "    <tr>\n",
       "      <th>3</th>\n",
       "      <td>50.948002</td>\n",
       "      <td>19.535284</td>\n",
       "      <td>AgriculturalArea</td>\n",
       "      <td>3</td>\n",
       "    </tr>\n",
       "    <tr>\n",
       "      <th>4</th>\n",
       "      <td>53.840378</td>\n",
       "      <td>23.110183</td>\n",
       "      <td>Water</td>\n",
       "      <td>1</td>\n",
       "    </tr>\n",
       "  </tbody>\n",
       "</table>\n",
       "</div>"
      ],
      "text/plain": [
       "         lat        lon         landcover  cluster\n",
       "0  50.528283  17.876719  AgriculturalArea        2\n",
       "1  52.834085  16.995086  AgriculturalArea        2\n",
       "2  51.662047  22.945717  AgriculturalArea        1\n",
       "3  50.948002  19.535284  AgriculturalArea        3\n",
       "4  53.840378  23.110183             Water        1"
      ]
     },
     "execution_count": 183,
     "metadata": {},
     "output_type": "execute_result"
    }
   ],
   "source": [
    "n_clusters = 4\n",
    "clusterer_pol = ee.Clusterer.wekaKMeans(n_clusters).train(training_pol)\n",
    "\n",
    "# Cluster the input using the trained clusterer.\n",
    "result_pol = median_pol.cluster(clusterer_pol)\n",
    "pol_points['cluster'] = pol_points.apply(lambda row: get_cluster_for_coordinates_pol(row['lat'], row['lon']), axis=1)\n",
    "pol_points.head()"
   ]
  },
  {
   "cell_type": "code",
   "execution_count": 184,
   "id": "ab88cacf-eaa2-40fa-9657-fee03ae3087a",
   "metadata": {},
   "outputs": [],
   "source": [
    "with open('pol_points_less_cluster_4.pickle', 'wb') as handle:\n",
    "    pickle.dump(pol_points, handle)"
   ]
  },
  {
   "cell_type": "code",
   "execution_count": 185,
   "id": "fb63c800-a6af-4593-84ab-bd63d11db1f1",
   "metadata": {},
   "outputs": [
    {
     "data": {
      "image/png": "[encoded data removed]",
      "text/plain": [
       "<Figure size 640x480 with 1 Axes>"
      ]
     },
     "metadata": {},
     "output_type": "display_data"
    }
   ],
   "source": [
    "grouped_data = pol_points.groupby(['cluster', 'landcover']).size().reset_index(name='count')\n",
    "\n",
    "# Pivot the data to create a table suitable for plotting\n",
    "pivot_data = grouped_data.pivot(index='cluster', columns='landcover', values='count').fillna(0)\n",
    "\n",
    "colors = {\n",
    "    'Water': 'blue',\n",
    "    'ForestNaturalAreas': 'green',\n",
    "    'ArtificialSurfaces': 'grey',\n",
    "    'Wetlands': 'purple',\n",
    "    'AgriculturalArea': '#FFD700'\n",
    "}\n",
    "\n",
    "# Plotting with custom colors\n",
    "pivot_data.plot(kind='bar', stacked=True, color=[colors[col] for col in pivot_data.columns])\n",
    "plt.xlabel('Cluster')\n",
    "plt.ylabel('Count')\n",
    "plt.title('Distribution of Points per Cluster for Each Landcover')\n",
    "plt.show()"
   ]
  },
  {
   "cell_type": "code",
   "execution_count": 186,
   "id": "f40e3ace-148f-443a-9d22-5f69dee0e52d",
   "metadata": {},
   "outputs": [
    {
     "data": {
      "text/html": [
       "<div>\n",
       "<style scoped>\n",
       "    .dataframe tbody tr th:only-of-type {\n",
       "        vertical-align: middle;\n",
       "    }\n",
       "\n",
       "    .dataframe tbody tr th {\n",
       "        vertical-align: top;\n",
       "    }\n",
       "\n",
       "    .dataframe thead th {\n",
       "        text-align: right;\n",
       "    }\n",
       "</style>\n",
       "<table border=\"1\" class=\"dataframe\">\n",
       "  <thead>\n",
       "    <tr style=\"text-align: right;\">\n",
       "      <th></th>\n",
       "      <th>lat</th>\n",
       "      <th>lon</th>\n",
       "      <th>landcover</th>\n",
       "      <th>cluster</th>\n",
       "    </tr>\n",
       "  </thead>\n",
       "  <tbody>\n",
       "    <tr>\n",
       "      <th>0</th>\n",
       "      <td>50.528283</td>\n",
       "      <td>17.876719</td>\n",
       "      <td>AgriculturalArea</td>\n",
       "      <td>1</td>\n",
       "    </tr>\n",
       "    <tr>\n",
       "      <th>1</th>\n",
       "      <td>52.834085</td>\n",
       "      <td>16.995086</td>\n",
       "      <td>AgriculturalArea</td>\n",
       "      <td>1</td>\n",
       "    </tr>\n",
       "    <tr>\n",
       "      <th>2</th>\n",
       "      <td>51.662047</td>\n",
       "      <td>22.945717</td>\n",
       "      <td>AgriculturalArea</td>\n",
       "      <td>1</td>\n",
       "    </tr>\n",
       "    <tr>\n",
       "      <th>3</th>\n",
       "      <td>50.948002</td>\n",
       "      <td>19.535284</td>\n",
       "      <td>AgriculturalArea</td>\n",
       "      <td>0</td>\n",
       "    </tr>\n",
       "    <tr>\n",
       "      <th>4</th>\n",
       "      <td>53.840378</td>\n",
       "      <td>23.110183</td>\n",
       "      <td>Water</td>\n",
       "      <td>0</td>\n",
       "    </tr>\n",
       "  </tbody>\n",
       "</table>\n",
       "</div>"
      ],
      "text/plain": [
       "         lat        lon         landcover  cluster\n",
       "0  50.528283  17.876719  AgriculturalArea        1\n",
       "1  52.834085  16.995086  AgriculturalArea        1\n",
       "2  51.662047  22.945717  AgriculturalArea        1\n",
       "3  50.948002  19.535284  AgriculturalArea        0\n",
       "4  53.840378  23.110183             Water        0"
      ]
     },
     "execution_count": 186,
     "metadata": {},
     "output_type": "execute_result"
    }
   ],
   "source": [
    "n_clusters = 2\n",
    "clusterer_pol = ee.Clusterer.wekaKMeans(n_clusters).train(training_pol)\n",
    "\n",
    "# Cluster the input using the trained clusterer.\n",
    "result_pol = median_pol.cluster(clusterer_pol)\n",
    "pol_points['cluster'] = pol_points.apply(lambda row: get_cluster_for_coordinates_pol(row['lat'], row['lon']), axis=1)\n",
    "pol_points.head()"
   ]
  },
  {
   "cell_type": "code",
   "execution_count": 187,
   "id": "d328dbd0-74c6-49cc-aadb-89cdbcfdc960",
   "metadata": {},
   "outputs": [],
   "source": [
    "with open('pol_points_less_cluster_2.pickle', 'wb') as handle:\n",
    "    pickle.dump(pol_points, handle)"
   ]
  },
  {
   "cell_type": "code",
   "execution_count": 188,
   "id": "d5ca3945-d871-487d-bd6c-09fb38305e88",
   "metadata": {},
   "outputs": [
    {
     "data": {
      "image/png": "[encoded data removed]",
      "text/plain": [
       "<Figure size 640x480 with 1 Axes>"
      ]
     },
     "metadata": {},
     "output_type": "display_data"
    }
   ],
   "source": [
    "grouped_data = pol_points.groupby(['cluster', 'landcover']).size().reset_index(name='count')\n",
    "\n",
    "# Pivot the data to create a table suitable for plotting\n",
    "pivot_data = grouped_data.pivot(index='cluster', columns='landcover', values='count').fillna(0)\n",
    "\n",
    "colors = {\n",
    "    'Water': 'blue',\n",
    "    'ForestNaturalAreas': 'green',\n",
    "    'ArtificialSurfaces': 'grey',\n",
    "    'Wetlands': 'purple',\n",
    "    'AgriculturalArea': '#FFD700'\n",
    "}\n",
    "\n",
    "# Plotting with custom colors\n",
    "pivot_data.plot(kind='bar', stacked=True, color=[colors[col] for col in pivot_data.columns])\n",
    "plt.xlabel('Cluster')\n",
    "plt.ylabel('Count')\n",
    "plt.title('Distribution of Points per Cluster for Each Landcover')\n",
    "plt.show()"
   ]
  },
  {
   "cell_type": "code",
   "execution_count": null,
   "id": "de2db555-a7b9-4ccb-8a1a-2749bd897da0",
   "metadata": {},
   "outputs": [],
   "source": [
    "n_clusters = 10\n",
    "clusterer_pol = ee.Clusterer.wekaKMeans(n_clusters).train(training_pol)\n",
    "\n",
    "# Cluster the input using the trained clusterer.\n",
    "result_pol = median_pol.cluster(clusterer_pol)\n",
    "pol_points['cluster'] = pol_points.apply(lambda row: get_cluster_for_coordinates_pol(row['lat'], row['lon']), axis=1)\n",
    "pol_points.head()"
   ]
  },
  {
   "cell_type": "code",
   "execution_count": null,
   "id": "d9bfb9d4-7d38-4737-8b09-c07dd8658248",
   "metadata": {},
   "outputs": [],
   "source": [
    "with open('pol_points_cluster_10.pickle', 'wb') as handle:\n",
    "    pickle.dump(pol_points, handle)"
   ]
  },
  {
   "cell_type": "code",
   "execution_count": 23,
   "id": "4efc06f0-2164-4456-ac92-b6bd57605b55",
   "metadata": {},
   "outputs": [],
   "source": [
    "file = open('pol_points_cluster_10.pickle', 'rb')\n",
    "pol_points = pickle.load(file)\n",
    "file.close()"
   ]
  },
  {
   "cell_type": "code",
   "execution_count": 24,
   "id": "73063a3e-5ca5-467a-81a6-a32a9e8d1f1a",
   "metadata": {},
   "outputs": [
    {
     "ename": "NameError",
     "evalue": "name 'plt' is not defined",
     "output_type": "error",
     "traceback": [
      "\u001b[0;31m---------------------------------------------------------------------------\u001b[0m",
      "\u001b[0;31mNameError\u001b[0m                                 Traceback (most recent call last)",
      "Cell \u001b[0;32mIn [24], line 16\u001b[0m\n\u001b[1;32m     14\u001b[0m \u001b[38;5;66;03m# Plotting with custom colors\u001b[39;00m\n\u001b[1;32m     15\u001b[0m pivot_data\u001b[38;5;241m.\u001b[39mplot(kind\u001b[38;5;241m=\u001b[39m\u001b[38;5;124m'\u001b[39m\u001b[38;5;124mbar\u001b[39m\u001b[38;5;124m'\u001b[39m, stacked\u001b[38;5;241m=\u001b[39m\u001b[38;5;28;01mTrue\u001b[39;00m, color\u001b[38;5;241m=\u001b[39m[colors[col] \u001b[38;5;28;01mfor\u001b[39;00m col \u001b[38;5;129;01min\u001b[39;00m pivot_data\u001b[38;5;241m.\u001b[39mcolumns])\n\u001b[0;32m---> 16\u001b[0m plt\u001b[38;5;241m.\u001b[39mxlabel(\u001b[38;5;124m'\u001b[39m\u001b[38;5;124mCluster\u001b[39m\u001b[38;5;124m'\u001b[39m)\n\u001b[1;32m     17\u001b[0m plt\u001b[38;5;241m.\u001b[39mylabel(\u001b[38;5;124m'\u001b[39m\u001b[38;5;124mCount\u001b[39m\u001b[38;5;124m'\u001b[39m)\n\u001b[1;32m     18\u001b[0m plt\u001b[38;5;241m.\u001b[39mtitle(\u001b[38;5;124m'\u001b[39m\u001b[38;5;124mDistribution of Points per Cluster for Each Landcover\u001b[39m\u001b[38;5;124m'\u001b[39m)\n",
      "\u001b[0;31mNameError\u001b[0m: name 'plt' is not defined"
     ]
    },
    {
     "data": {
      "image/png": "[encoded data removed]",
      "text/plain": [
       "<Figure size 640x480 with 1 Axes>"
      ]
     },
     "metadata": {},
     "output_type": "display_data"
    }
   ],
   "source": [
    "grouped_data = pol_points.groupby(['cluster', 'landcover']).size().reset_index(name='count')\n",
    "\n",
    "# Pivot the data to create a table suitable for plotting\n",
    "pivot_data = grouped_data.pivot(index='cluster', columns='landcover', values='count').fillna(0)\n",
    "\n",
    "colors = {\n",
    "    'Water': 'blue',\n",
    "    'ForestNaturalAreas': 'green',\n",
    "    'ArtificialSurfaces': 'grey',\n",
    "    'Wetlands': 'purple',\n",
    "    'AgriculturalArea': '#FFD700'\n",
    "}\n",
    "\n",
    "# Plotting with custom colors\n",
    "pivot_data.plot(kind='bar', stacked=True, color=[colors[col] for col in pivot_data.columns])\n",
    "plt.xlabel('Cluster')\n",
    "plt.ylabel('Count')\n",
    "plt.title('Distribution of Points per Cluster for Each Landcover')\n",
    "plt.show()"
   ]
  },
  {
   "cell_type": "code",
   "execution_count": null,
   "id": "7dafa2ca-b1f7-45c6-899b-8cd76972e65b",
   "metadata": {},
   "outputs": [],
   "source": [
    "n_clusters = 12\n",
    "clusterer_pol = ee.Clusterer.wekaKMeans(n_clusters).train(training_pol)\n",
    "\n",
    "# Cluster the input using the trained clusterer.\n",
    "result_pol = median_pol.cluster(clusterer_pol)\n",
    "pol_points['cluster'] = pol_points.apply(lambda row: get_cluster_for_coordinates_pol(row['lat'], row['lon']), axis=1)\n",
    "pol_points.head()"
   ]
  },
  {
   "cell_type": "code",
   "execution_count": null,
   "id": "00e704ed-93e3-4c7e-a0cf-e6c10c233b36",
   "metadata": {},
   "outputs": [],
   "source": [
    "with open('pol_points_cluster_12.pickle', 'wb') as handle:\n",
    "    pickle.dump(pol_points, handle)"
   ]
  },
  {
   "cell_type": "code",
   "execution_count": 26,
   "id": "24ad2098-acf9-4706-9a73-5a4414aae38f",
   "metadata": {},
   "outputs": [],
   "source": [
    "file = open('pol_points_cluster_12.pickle', 'rb')\n",
    "pol_points = pickle.load(file)\n",
    "file.close()"
   ]
  },
  {
   "cell_type": "code",
   "execution_count": 27,
   "id": "18df4835-3245-43de-b499-beef71ddf2bd",
   "metadata": {},
   "outputs": [
    {
     "ename": "NameError",
     "evalue": "name 'plt' is not defined",
     "output_type": "error",
     "traceback": [
      "\u001b[0;31m---------------------------------------------------------------------------\u001b[0m",
      "\u001b[0;31mNameError\u001b[0m                                 Traceback (most recent call last)",
      "Cell \u001b[0;32mIn [27], line 16\u001b[0m\n\u001b[1;32m     14\u001b[0m \u001b[38;5;66;03m# Plotting with custom colors\u001b[39;00m\n\u001b[1;32m     15\u001b[0m pivot_data\u001b[38;5;241m.\u001b[39mplot(kind\u001b[38;5;241m=\u001b[39m\u001b[38;5;124m'\u001b[39m\u001b[38;5;124mbar\u001b[39m\u001b[38;5;124m'\u001b[39m, stacked\u001b[38;5;241m=\u001b[39m\u001b[38;5;28;01mTrue\u001b[39;00m, color\u001b[38;5;241m=\u001b[39m[colors[col] \u001b[38;5;28;01mfor\u001b[39;00m col \u001b[38;5;129;01min\u001b[39;00m pivot_data\u001b[38;5;241m.\u001b[39mcolumns])\n\u001b[0;32m---> 16\u001b[0m plt\u001b[38;5;241m.\u001b[39mxlabel(\u001b[38;5;124m'\u001b[39m\u001b[38;5;124mCluster\u001b[39m\u001b[38;5;124m'\u001b[39m)\n\u001b[1;32m     17\u001b[0m plt\u001b[38;5;241m.\u001b[39mylabel(\u001b[38;5;124m'\u001b[39m\u001b[38;5;124mCount\u001b[39m\u001b[38;5;124m'\u001b[39m)\n\u001b[1;32m     18\u001b[0m plt\u001b[38;5;241m.\u001b[39mtitle(\u001b[38;5;124m'\u001b[39m\u001b[38;5;124mDistribution of Points per Cluster for Each Landcover\u001b[39m\u001b[38;5;124m'\u001b[39m)\n",
      "\u001b[0;31mNameError\u001b[0m: name 'plt' is not defined"
     ]
    },
    {
     "data": {
      "image/png": "[encoded data removed]",
      "text/plain": [
       "<Figure size 640x480 with 1 Axes>"
      ]
     },
     "metadata": {},
     "output_type": "display_data"
    }
   ],
   "source": [
    "grouped_data = pol_points.groupby(['cluster', 'landcover']).size().reset_index(name='count')\n",
    "\n",
    "# Pivot the data to create a table suitable for plotting\n",
    "pivot_data = grouped_data.pivot(index='cluster', columns='landcover', values='count').fillna(0)\n",
    "\n",
    "colors = {\n",
    "    'Water': 'blue',\n",
    "    'ForestNaturalAreas': 'green',\n",
    "    'ArtificialSurfaces': 'grey',\n",
    "    'Wetlands': 'purple',\n",
    "    'AgriculturalArea': '#FFD700'\n",
    "}\n",
    "\n",
    "# Plotting with custom colors\n",
    "pivot_data.plot(kind='bar', stacked=True, color=[colors[col] for col in pivot_data.columns])\n",
    "plt.xlabel('Cluster')\n",
    "plt.ylabel('Count')\n",
    "plt.title('Distribution of Points per Cluster for Each Landcover')\n",
    "plt.show()"
   ]
  }
 ],
 "metadata": {
  "kernelspec": {
   "display_name": "Python",
   "language": "python",
   "name": "python3"
  },
  "language_info": {
   "codemirror_mode": {
    "name": "ipython",
    "version": 3
   },
   "file_extension": ".py",
   "mimetype": "text/x-python",
   "name": "python",
   "nbconvert_exporter": "python",
   "pygments_lexer": "ipython3",
   "version": "3.8.10"
  }
 },
 "nbformat": 4,
 "nbformat_minor": 5
}
